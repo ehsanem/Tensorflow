{
  "nbformat": 4,
  "nbformat_minor": 0,
  "metadata": {
    "colab": {
      "name": "TensorflowFundamental.ipynb",
      "provenance": [],
      "collapsed_sections": [
        "K5HFULipgtEQ",
        "KIy5C10Ng0tX",
        "SZxh46t3hGjl",
        "AB_Ml_ffhhB8",
        "F_77KO6IhvWw",
        "LOsnD9Tgh_ri",
        "o6rIVFgYiHOr",
        "6qtJRGXiiL1A",
        "13yM-nmbiSqz",
        "mwpcs4EYiZdG",
        "iiEm6d4iifGW",
        "Jn0nJjshilRl",
        "rEZAb_3Fip7j",
        "62QBjxlwiv3L",
        "eC73Y3qRi0kC",
        "cff8y3CTi5KC",
        "8W_QWGjFi8ka",
        "2beOAUwTjDaF",
        "tvuFTxh4jJX3",
        "jmGTZUUBjSRe",
        "CFZiZ39ijWK9",
        "vVoH_e7vjtXn",
        "fRhIbq61jxNg",
        "3OvWBqrDj-Cb",
        "RNYgowBIlOfx",
        "kNXqBgCUmaN-",
        "mjvvZFLXnrnu"
      ],
      "toc_visible": true,
      "authorship_tag": "ABX9TyNGpT1+xdpBZrd/Ddz0aaGd",
      "include_colab_link": true
    },
    "kernelspec": {
      "name": "python3",
      "display_name": "Python 3"
    },
    "language_info": {
      "name": "python"
    }
  },
  "cells": [
    {
      "cell_type": "markdown",
      "metadata": {
        "id": "view-in-github",
        "colab_type": "text"
      },
      "source": [
        "<a href=\"https://colab.research.google.com/github/ehsanem/Tensorflow/blob/main/TensorflowFundamental.ipynb\" target=\"_parent\"><img src=\"https://colab.research.google.com/assets/colab-badge.svg\" alt=\"Open In Colab\"/></a>"
      ]
    },
    {
      "cell_type": "code",
      "source": [
        "import tensorflow as tf"
      ],
      "metadata": {
        "id": "RkxlG5zwbQPl"
      },
      "execution_count": 1,
      "outputs": []
    },
    {
      "cell_type": "markdown",
      "source": [
        "# Types of tensors\n",
        "**scaler:** It is just a number or numbers\n",
        "\n",
        "**vector:** A series of numbers with direction\n",
        "\n",
        "**matrix:** A two-dimensional array of numbers\n",
        "\n",
        "**tensor:** An n-dimensional array of numbers"
      ],
      "metadata": {
        "id": "8YfSTWx3eUwg"
      }
    },
    {
      "cell_type": "markdown",
      "source": [
        "#Working with Tensors\n"
      ],
      "metadata": {
        "id": "TbjeTKrXe4LG"
      }
    },
    {
      "cell_type": "markdown",
      "source": [
        "## Methods of creating tensors\n",
        "Two methods to create tensors"
      ],
      "metadata": {
        "id": "_gqtt-KcgV5D"
      }
    },
    {
      "cell_type": "code",
      "execution_count": null,
      "metadata": {
        "id": "DHKjJKmwbO_8"
      },
      "outputs": [],
      "source": [
        "tf.constant()\n",
        "tf.variable()"
      ]
    },
    {
      "cell_type": "markdown",
      "source": [
        "##Methods of getting tensor info"
      ],
      "metadata": {
        "id": "K5HFULipgtEQ"
      }
    },
    {
      "cell_type": "code",
      "source": [
        ".ndim : returns number of columns\n",
        ".shape : returns tensor shape : ([x,y,z]) where x is the number of samples, y is number of rows in each sample and z is number of features.\n",
        ".size: returns the number of all elements in the tensor"
      ],
      "metadata": {
        "id": "iktVymt8gw6a"
      },
      "execution_count": null,
      "outputs": []
    },
    {
      "cell_type": "markdown",
      "source": [
        "##Change an element value in a tensor\n",
        "We can change an element of a variable tensor. In order to change an element of a variable tensor we have to use **.assign** method:"
      ],
      "metadata": {
        "id": "KIy5C10Ng0tX"
      }
    },
    {
      "cell_type": "code",
      "source": [
        "change_element = tf.variable([[[1,2,2],\n",
        "[2,5,5],\n",
        "[8,9,9],\n",
        "[5,7,7]],[[1,2,2],\n",
        "[2,5,5],\n",
        "[8,9,9],\n",
        "[5,7,7]]])\n",
        "\n",
        "change_element[0][0][0].assign(0)"
      ],
      "metadata": {
        "id": "EtAiQq6Xg4be"
      },
      "execution_count": null,
      "outputs": []
    },
    {
      "cell_type": "markdown",
      "source": [
        "##Creating random tensor\n",
        "We need to create random tensor for the first time of model building. This random tensor would be the tensor of weights:"
      ],
      "metadata": {
        "id": "SZxh46t3hGjl"
      }
    },
    {
      "cell_type": "code",
      "source": [
        "random_1 = tf.random.Generator.from_seed(42)\n",
        "tf.constant(np.random.randint(0,100,size=50))"
      ],
      "metadata": {
        "id": "gbszgJa3hJnL"
      },
      "execution_count": null,
      "outputs": []
    },
    {
      "cell_type": "markdown",
      "source": [
        "##Creating random tensor with a distribution"
      ],
      "metadata": {
        "id": "OGrAEWwYhQ2-"
      }
    },
    {
      "cell_type": "markdown",
      "source": [
        "###Normal distribution"
      ],
      "metadata": {
        "id": "gFjlyil2havg"
      }
    },
    {
      "cell_type": "code",
      "source": [
        "random_1.normal(shape = (3,2))"
      ],
      "metadata": {
        "id": "YeelBhV4hcfo"
      },
      "execution_count": null,
      "outputs": []
    },
    {
      "cell_type": "markdown",
      "source": [
        "###Uniform distribution"
      ],
      "metadata": {
        "id": "AB_Ml_ffhhB8"
      }
    },
    {
      "cell_type": "code",
      "source": [
        "random_1.normal(shape = (3,2))"
      ],
      "metadata": {
        "id": "ziCVcYNuhrse"
      },
      "execution_count": null,
      "outputs": []
    },
    {
      "cell_type": "markdown",
      "source": [
        "##Shuffle tensor data\n",
        "There are two setting for shuffling seed:\n",
        "1. global seed\n",
        "2. operation seed:\n"
      ],
      "metadata": {
        "id": "F_77KO6IhvWw"
      }
    },
    {
      "cell_type": "code",
      "source": [
        "tf.random.set_seed(42) (global)\n",
        "tf.random.shuffle(random_1,seed=42) (operational)"
      ],
      "metadata": {
        "id": "RfPwcIGkh5_l"
      },
      "execution_count": null,
      "outputs": []
    },
    {
      "cell_type": "markdown",
      "source": [
        "##Add an extra dimension to a tensor"
      ],
      "metadata": {
        "id": "LOsnD9Tgh_ri"
      }
    },
    {
      "cell_type": "markdown",
      "source": [
        "###tf.newaxis"
      ],
      "metadata": {
        "id": "o6rIVFgYiHOr"
      }
    },
    {
      "cell_type": "code",
      "source": [
        "example = tensor[...,tf.newaxis]"
      ],
      "metadata": {
        "id": "CmqU_ELsiCc0"
      },
      "execution_count": null,
      "outputs": []
    },
    {
      "cell_type": "markdown",
      "source": [
        "###tf.expand_dims"
      ],
      "metadata": {
        "id": "6qtJRGXiiL1A"
      }
    },
    {
      "cell_type": "code",
      "source": [
        "example = tf.expand_dims(tensor, axis=0)\n",
        "# the axis can be anything: -1, 0, 1,..."
      ],
      "metadata": {
        "id": "3xGQX3aTiO5B"
      },
      "execution_count": null,
      "outputs": []
    },
    {
      "cell_type": "markdown",
      "source": [
        "##Tensor Basic Operations"
      ],
      "metadata": {
        "id": "13yM-nmbiSqz"
      }
    },
    {
      "cell_type": "code",
      "source": [
        "tf.multiply(tensor, 10)\n",
        "tf.add(tensor, 10)"
      ],
      "metadata": {
        "id": "aUqzMdSoiX3H"
      },
      "execution_count": null,
      "outputs": []
    },
    {
      "cell_type": "markdown",
      "source": [
        "##Tensor dot product"
      ],
      "metadata": {
        "id": "mwpcs4EYiZdG"
      }
    },
    {
      "cell_type": "code",
      "source": [
        "tf.matmul(tensor1, tensor2)\n",
        "tf.tensordot(tensor1, tensor2)"
      ],
      "metadata": {
        "id": "yZacTnBUidVD"
      },
      "execution_count": null,
      "outputs": []
    },
    {
      "cell_type": "markdown",
      "source": [
        "##Tensor Transpose"
      ],
      "metadata": {
        "id": "iiEm6d4iifGW"
      }
    },
    {
      "cell_type": "code",
      "source": [
        "tf.transpose(tensor1)"
      ],
      "metadata": {
        "id": "GpaUyslZijmU"
      },
      "execution_count": null,
      "outputs": []
    },
    {
      "cell_type": "markdown",
      "source": [
        "##Tensor reshape"
      ],
      "metadata": {
        "id": "Jn0nJjshilRl"
      }
    },
    {
      "cell_type": "code",
      "source": [
        "tf.reshape(tensor, shape=(2,3))"
      ],
      "metadata": {
        "id": "GNRLaQfSioPm"
      },
      "execution_count": null,
      "outputs": []
    },
    {
      "cell_type": "markdown",
      "source": [
        "##Tensor datatype precision"
      ],
      "metadata": {
        "id": "rEZAb_3Fip7j"
      }
    },
    {
      "cell_type": "code",
      "source": [
        "tf.cast(tensor, dtype = tf.float16)"
      ],
      "metadata": {
        "id": "rMX0mWIhiuQb"
      },
      "execution_count": null,
      "outputs": []
    },
    {
      "cell_type": "markdown",
      "source": [
        "##Tensor Aggregation"
      ],
      "metadata": {
        "id": "62QBjxlwiv3L"
      }
    },
    {
      "cell_type": "markdown",
      "source": [
        "###absolute values"
      ],
      "metadata": {
        "id": "eC73Y3qRi0kC"
      }
    },
    {
      "cell_type": "code",
      "source": [
        "tf.abs(tensor)"
      ],
      "metadata": {
        "id": "VCUe9fNwi27f"
      },
      "execution_count": null,
      "outputs": []
    },
    {
      "cell_type": "markdown",
      "source": [
        "###minimum"
      ],
      "metadata": {
        "id": "cff8y3CTi5KC"
      }
    },
    {
      "cell_type": "code",
      "source": [
        "tf.reduce_min(tensor)"
      ],
      "metadata": {
        "id": "2h8lplvfi7JC"
      },
      "execution_count": null,
      "outputs": []
    },
    {
      "cell_type": "markdown",
      "source": [
        "###max"
      ],
      "metadata": {
        "id": "8W_QWGjFi8ka"
      }
    },
    {
      "cell_type": "code",
      "source": [
        "tf.reduce_max(tensor)"
      ],
      "metadata": {
        "id": "ywwMhp7hi-bE"
      },
      "execution_count": null,
      "outputs": []
    },
    {
      "cell_type": "markdown",
      "source": [
        "###mean"
      ],
      "metadata": {
        "id": "2beOAUwTjDaF"
      }
    },
    {
      "cell_type": "code",
      "source": [
        "tf.reduce_mean(tensor)"
      ],
      "metadata": {
        "id": "CUzIH_jCjFNu"
      },
      "execution_count": null,
      "outputs": []
    },
    {
      "cell_type": "markdown",
      "source": [
        "###sum"
      ],
      "metadata": {
        "id": "tvuFTxh4jJX3"
      }
    },
    {
      "cell_type": "code",
      "source": [
        "tf.reduce_sum(tensor)"
      ],
      "metadata": {
        "id": "B1fbbw7PjLxa"
      },
      "execution_count": null,
      "outputs": []
    },
    {
      "cell_type": "markdown",
      "source": [
        "###std"
      ],
      "metadata": {
        "id": "jmGTZUUBjSRe"
      }
    },
    {
      "cell_type": "code",
      "source": [
        "tf.reduce_std(tensor)"
      ],
      "metadata": {
        "id": "UYd-t0wojUZQ"
      },
      "execution_count": null,
      "outputs": []
    },
    {
      "cell_type": "markdown",
      "source": [
        "###variance"
      ],
      "metadata": {
        "id": "CFZiZ39ijWK9"
      }
    },
    {
      "cell_type": "code",
      "source": [
        "tf.reduce_variance(tensor)"
      ],
      "metadata": {
        "id": "Z6OdIrszjYxV"
      },
      "execution_count": null,
      "outputs": []
    },
    {
      "cell_type": "markdown",
      "source": [
        "##Finding max/min value & its index in a tensor"
      ],
      "metadata": {
        "id": "vVoH_e7vjtXn"
      }
    },
    {
      "cell_type": "code",
      "source": [
        "tf.argmax(tensor)\n",
        "tf.argmin(tensor)\n",
        "tensor[tf.argmax(tensor)]\n",
        "tensor[tf.argmax(tensor)] == tf.reduce_max(tensor)"
      ],
      "metadata": {
        "id": "ODHUDn8Kjuin"
      },
      "execution_count": null,
      "outputs": []
    },
    {
      "cell_type": "markdown",
      "source": [
        "##Squeezing Tensor\n",
        "It means removing all one dimension:"
      ],
      "metadata": {
        "id": "fRhIbq61jxNg"
      }
    },
    {
      "cell_type": "code",
      "source": [
        "tf.squeeze(tensor)"
      ],
      "metadata": {
        "id": "Ry5sMTJMj7nU"
      },
      "execution_count": null,
      "outputs": []
    },
    {
      "cell_type": "markdown",
      "source": [
        "##One-hot encoding"
      ],
      "metadata": {
        "id": "3OvWBqrDj-Cb"
      }
    },
    {
      "cell_type": "code",
      "source": [
        "tf.one_hot(tensor, depth = 0,1,2,3,...)\n",
        "tf.one_hot(tensor, depth= 0,1,2,3,..., on_value = 'lablalbl' off_value = 'bfbfbfbf')"
      ],
      "metadata": {
        "id": "I1KUuxFjkAic"
      },
      "execution_count": null,
      "outputs": []
    },
    {
      "cell_type": "markdown",
      "source": [
        "##Tensor math operation"
      ],
      "metadata": {
        "id": "1uii_-HRkCZ5"
      }
    },
    {
      "cell_type": "code",
      "source": [
        "tf.square(tensor)\n",
        "tf.sqrt(tensor)"
      ],
      "metadata": {
        "id": "mHx6dwjZkK5T"
      },
      "execution_count": null,
      "outputs": []
    },
    {
      "cell_type": "markdown",
      "source": [
        "---\n",
        "**NOTE**\n",
        "\n",
        " ***If we create a tensor from a NumPy array, the data is \n",
        "float64 but when we create it with TensorFlow it would be float32***\n",
        "\n",
        "---"
      ],
      "metadata": {
        "id": "QeCcBEOWkOzW"
      }
    },
    {
      "cell_type": "markdown",
      "source": [
        "##Check CPU/GPU"
      ],
      "metadata": {
        "id": "RNYgowBIlOfx"
      }
    },
    {
      "cell_type": "code",
      "source": [
        "tf.config.list_physical_devices"
      ],
      "metadata": {
        "id": "0_o66XpSlSuJ"
      },
      "execution_count": null,
      "outputs": []
    },
    {
      "cell_type": "markdown",
      "source": [
        "#Model creation steps\n",
        "\n",
        "1. create sequential object\n",
        "2. add layers of the neural network\n",
        "3. compile: set hyperparameters\n",
        "4. fit the model to the dataset\n",
        "5. use predict to evaluate the model\n",
        "\n",
        "EXAMPLE\n"
      ],
      "metadata": {
        "id": "sOpoXM5LlkN4"
      }
    },
    {
      "cell_type": "code",
      "source": [
        "model = tf.keras.Sequential()\n",
        "model.add(tf.keras.layers.Dense(100))\n",
        "model.add(tf.keras.layers.Dense(1))\n",
        "model.compile(optimizer='Adam', loss='mae', metrics='mae')\n",
        "\n",
        "model.fit(X_train_tensor, y_train_tensor, epochs=100)"
      ],
      "metadata": {
        "id": "9NBzuB4KmHC_"
      },
      "execution_count": null,
      "outputs": []
    },
    {
      "cell_type": "markdown",
      "source": [
        "Define a model while creating the sequential object"
      ],
      "metadata": {
        "id": "4D5eGAz0mMLF"
      }
    },
    {
      "cell_type": "code",
      "source": [
        "model = tf.keras.Sequential(\n",
        "[\n",
        "tf.keras.layers.Dense(100),\n",
        "tf.keras.layers.Dense(1)\n",
        "])"
      ],
      "metadata": {
        "id": "S7kwNA30mUu5"
      },
      "execution_count": null,
      "outputs": []
    },
    {
      "cell_type": "markdown",
      "source": [
        "##1. Create model object"
      ],
      "metadata": {
        "id": "kNXqBgCUmaN-"
      }
    },
    {
      "cell_type": "code",
      "source": [
        "model = tf.keras.sequential()"
      ],
      "metadata": {
        "id": "TwSgWPOFmuU_"
      },
      "execution_count": null,
      "outputs": []
    },
    {
      "cell_type": "markdown",
      "source": [
        "##2. Add layers(method of model object)\n",
        "There are many types of layers and we can use them based on the type of problem that we are facing with.\n",
        "\n",
        "Built-in layers in TF are:\n",
        "https://www.tensorflow.org/api_docs/python/tf/keras/layers\n"
      ],
      "metadata": {
        "id": "Hj-DgeKemwE6"
      }
    },
    {
      "cell_type": "markdown",
      "source": [
        "###Dense Layer\n",
        "The most common is Dense layer. It is called dense because all neurons are connected to each other.\n",
        "\n",
        "A layer can be added to the model with the following syntax:"
      ],
      "metadata": {
        "id": "bR3-HH4bnXf9"
      }
    },
    {
      "cell_type": "code",
      "source": [
        "model.add(tf.keras.layers.Dense(...))"
      ],
      "metadata": {
        "id": "wO-yxqkSnZSc"
      },
      "execution_count": null,
      "outputs": []
    },
    {
      "cell_type": "markdown",
      "source": [
        "####Dense layer parameters\n",
        "1. **units**: Number of neurons in the layer (type:integer)\n",
        "2. **activation**: a function that decides whether the input is important enough to be allowed to enter the next level of the modelling.(type: string)\n",
        "There are **16 types** of built-in activation functions (the famous one is Relu):\n",
        "https://www.tensorflow.org/api_docs/python/tf/keras/activations\n",
        "3. **use_bias**: whether the weight matrix for this layer uses bias vector or not.(type: Boolean)\n",
        "4. **kernel_initializer**: weight matrix initializer. It can be an initialized matrix with a specified distribution.(type:Tensor) There are 31 types of built-in distributions in the TF:https://www.tensorflow.org/api_docs/python/tf/keras/initializers\n",
        "5. **bias_initializer**: a matrix for bias values (b values) of the loss function (f=ax+b) (type: Tensor)\n",
        "6. **kernel_regularizer**: Regularizers are a set of rules to apply penalties during optimization. They are part of the loss function. There are 3 types of built-in regularizers and also it is possible to define custom regularizers:**L1, L2, L!L2**\n",
        "\n",
        "EXAMPLE\n",
        "\n",
        "\n",
        "```\n",
        "layer = layers.Dense(\n",
        "units=64,\n",
        "kernel_regularizer=regularizers.L1L2(l1=1e-5, l2=1e-4),\n",
        "bias_regularizer=regularizers.L2(1e-4),\n",
        "activity_regularizer=regularizers.L2(1e-5)\n",
        ")\n",
        "```\n",
        "\n",
        "7. **bias_regularizer**: Same as above but apply to bias value\n",
        "8. **activity_regularizer**: regularizer for a layer's output\n",
        "9. **kernel_constraint**: Apply constraint on model weights matrix. for example non-negative constraint.\n",
        "There are built-in weight constraints: **MaxNorm,\n",
        "MinMaxNorm,\n",
        "NonNeg,\n",
        "UnitNorm**\n",
        "10. **Radial Constraint**: It is possible to define a custom constraint\n",
        "11. **bias_constraint**: Same as above but apply to bias values\n"
      ],
      "metadata": {
        "id": "mjvvZFLXnrnu"
      }
    },
    {
      "cell_type": "markdown",
      "source": [
        "##3. Compile (method of model object)\n",
        "After adding layers to the model, we need to define the hyperparameters of the model. For this purpose, we have to use compile method.\n",
        "\n",
        "EXAMPLE"
      ],
      "metadata": {
        "id": "17HmQ6NgqsNm"
      }
    },
    {
      "cell_type": "code",
      "source": [
        "model.compile(optimizer='Adam', loss='mae', metrics='mae')"
      ],
      "metadata": {
        "id": "IIhbum53sYLW"
      },
      "execution_count": null,
      "outputs": []
    },
    {
      "cell_type": "markdown",
      "source": [
        "###Complie parameters\n",
        "1. **optimizer**(type:string): An optimizer is a method which uses to converge the minimum points. There are different types of optimizers: **Adadelta,\n",
        "adagrad,\n",
        "Adam,\n",
        "Adamax,\n",
        "Ftrl,\n",
        "Nadam,\n",
        "Optimizer,\n",
        "RMSprop,\n",
        "SGD**\n",
        "2. **loss** (type:string): The loss function is used to optimize the model. This is the function that will get minimized by the optimizer. A function which calculates the difference between real value and predicted .There are 18 different types of optimizers:\n",
        "https://www.tensorflow.org/api_docs/python/tf/keras/losses\n",
        "3. **metric**(type:string): A metric is used to judge the performance of the model.\n",
        "There are 43 different types of metrics:\n",
        "https://www.tensorflow.org/api_docs/python/tf/keras/metrics\n",
        "4. **loss_weights**\n",
        "5. **weighted_metrics**\n",
        "6. **run_eagerly**\n",
        "7. **steps_per_execution**\n",
        "8. **jit_compile**"
      ],
      "metadata": {
        "id": "2WAgK0YDsY_0"
      }
    },
    {
      "cell_type": "markdown",
      "source": [
        "# New Section"
      ],
      "metadata": {
        "id": "c0NiCNBA7LTq"
      }
    },
    {
      "cell_type": "markdown",
      "source": [
        "##4. Fit(method of model object)\n",
        "EXAMPLE\n",
        "```\n",
        "model.fit(X_train_tensor, y_train_tensor, epochs=100)\n",
        "```\n"
      ],
      "metadata": {
        "id": "2Of-NyQ0tv-G"
      }
    },
    {
      "cell_type": "markdown",
      "source": [
        "##fit parameters\n",
        "1. **x**\n",
        "2. **y**\n",
        "3. **batch_size**: The fraction of all training samples which the network uses to train the model in each epoch.\n",
        "There are 3 technics for batch size selection:\n",
        "  **Batch**: uses all samples in a single batch\n",
        "  ; **Mini-batch**: divide the dataset into batches with equal samples except for the last batch, which contains the remaining samples. for example, 14 samples with 3 batches will be: 5 - 5 - 4\n",
        "  ; **Stochastic**: each sample is a batch\n",
        "\n",
        "4. **epochs**: The number of times that all training samples used to train the model\n",
        "5. **verbose**: The explanation of fit process. accepted values: 0, 1, 2\n",
        "6. **callbacks**: Callback is a very important property of fit method. the config of callback has a direct impact on the model accuracy.\n",
        "7. **validation_split**: the fraction of training data for validation. between 0 and 1.\n",
        "8. **validation_data**: validation dataset\n",
        "9. **shuffle**: shuffle the training data before each epoch. BOOLEAN\n",
        "10. **class_weight**\n",
        "11. **sample_weight**\n",
        "12. **initial_epoch**\n",
        "13. **steps_per_epoch**\n",
        "14. **validation_steps**\n",
        "15. **validation_batch_size**\n",
        "16. **validation_freq**\n",
        "17. **max_queue_size**\n",
        "18. **workers**\n",
        "19. **use_multiprocessing**"
      ],
      "metadata": {
        "id": "z9EYrLWvuKRv"
      }
    },
    {
      "cell_type": "markdown",
      "source": [
        "##Other model methods\n",
        "5. **call**: Calls the model on new inputs\n",
        "**compute_loss**: Compute the total loss in the training mode,\n",
        "6. **compute_metric**: update metrics\n",
        "7. **evaluate**: Returns the loss value & metrics values for the model in test mode\n",
        "8. **load_weights**: load saved weights from previously built models.\n",
        "9. **save**\n",
        "10. **to_json**\n",
        "11. **To_yaml**\n",
        "12. **summary**\n",
        "\n"
      ],
      "metadata": {
        "id": "EcPgu9tBwL-H"
      }
    },
    {
      "cell_type": "markdown",
      "source": [
        "---\n",
        "\n",
        "**NOTE**\n",
        "\n",
        "***evaluate gives the loss value but, predict only gives the predicted values***\n",
        "\n",
        "---\n",
        "**NOTE**\n",
        "\n",
        "***There are other methods for model but the most useful ones are mentioned***"
      ],
      "metadata": {
        "id": "kBoHAC3rxLS8"
      }
    },
    {
      "cell_type": "markdown",
      "source": [
        "#Save and load models\n",
        "Create a function to build model:"
      ],
      "metadata": {
        "id": "OrW4jMYqy27V"
      }
    },
    {
      "cell_type": "code",
      "source": [
        "def create_model():\n",
        "  model = tf.keras.Sequential([\n",
        "    keras.layers.Dense(512, activation='relu', input_shape=(784,)),\n",
        "    keras.layers.Dropout(0.2),\n",
        "    keras.layers.Dense(10)\n",
        "  ])\n",
        "  model.compile(optimizer='adam',\n",
        "                loss=tf.losses.SparseCategoricalCrossentropy(from_logits=True),\n",
        "                metrics=[tf.metrics.SparseCategoricalAccuracy()])\n",
        "\n",
        "  return model"
      ],
      "metadata": {
        "id": "pvJAwbbBzAo5"
      },
      "execution_count": null,
      "outputs": []
    },
    {
      "cell_type": "markdown",
      "source": [
        "##Save model weights\n",
        "Use callbacks to save model weights during training. In TF it calls checkpoints:\n"
      ],
      "metadata": {
        "id": "msnMqRITzGah"
      }
    },
    {
      "cell_type": "code",
      "source": [
        "model = create_model()\n",
        "\n",
        "cp_callback = tf.keras.callbacks.ModelCheckpoint(file_path=..., save_weights_only = True,\n",
        "Verbose=1,\n",
        "save_freq=5*batch_size\n",
        ")\n",
        "\n",
        "model.fit(X_train, y_train, epochs = 10, callbacks = [cp_callback])"
      ],
      "metadata": {
        "id": "Crcb3FvS5bLd"
      },
      "execution_count": null,
      "outputs": []
    },
    {
      "cell_type": "markdown",
      "source": [
        "**save_freq** save weights every 5 epoches"
      ],
      "metadata": {
        "id": "URoAP_125eYX"
      }
    },
    {
      "cell_type": "markdown",
      "source": [
        "##Load model weights\n",
        "It is possible to use saved weights for any model with similar architecture."
      ],
      "metadata": {
        "id": "z8yJG0pJ5l7r"
      }
    },
    {
      "cell_type": "code",
      "source": [
        "model = create_model()\n",
        "model.load_weights(checkpoint_file_path)\n"
      ],
      "metadata": {
        "id": "aO6i_l4F5zz3"
      },
      "execution_count": null,
      "outputs": []
    },
    {
      "cell_type": "markdown",
      "source": [
        "##Save entire model\n",
        "Default model file save in SavedModel format"
      ],
      "metadata": {
        "id": "cm0E949l51uZ"
      }
    },
    {
      "cell_type": "code",
      "source": [
        "model = create_model()\n",
        "model.save(file_path)"
      ],
      "metadata": {
        "id": "56dzHRtr530M"
      },
      "execution_count": null,
      "outputs": []
    },
    {
      "cell_type": "markdown",
      "source": [
        "Model also can be saved in HDF5 format"
      ],
      "metadata": {
        "id": "S-qjfXYj5_Sv"
      }
    },
    {
      "cell_type": "code",
      "source": [
        "model = create_model()\n",
        "model.save(filename.h5)"
      ],
      "metadata": {
        "id": "E9X2rcQ46Dvw"
      },
      "execution_count": null,
      "outputs": []
    },
    {
      "cell_type": "markdown",
      "source": [
        "##Load entire model"
      ],
      "metadata": {
        "id": "-KcRWKE-6aI2"
      }
    },
    {
      "cell_type": "code",
      "source": [
        "new_model = tf.keras.models.loads_model(model_file)\n",
        "new_model.summary()\n"
      ],
      "metadata": {
        "id": "FQodN-HL6jMq"
      },
      "execution_count": null,
      "outputs": []
    },
    {
      "cell_type": "markdown",
      "source": [
        "##Download from Colab"
      ],
      "metadata": {
        "id": "q8MLkodz6kta"
      }
    },
    {
      "cell_type": "code",
      "source": [
        "from google.colab import files\n",
        "files.download(path)"
      ],
      "metadata": {
        "id": "CcceiKFa6m28"
      },
      "execution_count": null,
      "outputs": []
    },
    {
      "cell_type": "code",
      "source": [
        "Or copy a file from one place to another"
      ],
      "metadata": {
        "id": "ikAl1I_t7AuE"
      },
      "execution_count": null,
      "outputs": []
    },
    {
      "cell_type": "code",
      "source": [
        "!cp origin_path destination_path"
      ],
      "metadata": {
        "id": "74n81cYg7FGM"
      },
      "execution_count": null,
      "outputs": []
    },
    {
      "cell_type": "markdown",
      "source": [
        "#DL experiments tracking tools (TF plugin)\n",
        "1. TensorBoard\n",
        "2. Weights and Biases\n",
        "\n"
      ],
      "metadata": {
        "id": "CpAfkPdPxSqQ"
      }
    },
    {
      "cell_type": "markdown",
      "source": [
        "#Review with an example"
      ],
      "metadata": {
        "id": "YGtPqwqn7H2J"
      }
    },
    {
      "cell_type": "code",
      "source": [
        "!pip install tensorflow_addons"
      ],
      "metadata": {
        "colab": {
          "base_uri": "https://localhost:8080/"
        },
        "id": "KFCmzh1a_gnh",
        "outputId": "1e9756de-7179-4371-8d72-211edc99c8c2"
      },
      "execution_count": 58,
      "outputs": [
        {
          "output_type": "stream",
          "name": "stdout",
          "text": [
            "Collecting tensorflow_addons\n",
            "  Downloading tensorflow_addons-0.16.1-cp37-cp37m-manylinux_2_12_x86_64.manylinux2010_x86_64.whl (1.1 MB)\n",
            "\u001b[K     |████████████████████████████████| 1.1 MB 5.2 MB/s \n",
            "\u001b[?25hRequirement already satisfied: typeguard>=2.7 in /usr/local/lib/python3.7/dist-packages (from tensorflow_addons) (2.7.1)\n",
            "Installing collected packages: tensorflow-addons\n",
            "Successfully installed tensorflow-addons-0.16.1\n"
          ]
        }
      ]
    },
    {
      "cell_type": "code",
      "source": [
        "import tensorflow as tf\n",
        "import tensorflow_addons as tfa\n",
        "import pandas as pd\n",
        "from sklearn.datasets import load_boston\n",
        "from sklearn.model_selection import train_test_split\n",
        "from matplotlib import pyplot as plt\n"
      ],
      "metadata": {
        "id": "Yj4M2ng-t3Se"
      },
      "execution_count": 68,
      "outputs": []
    },
    {
      "cell_type": "markdown",
      "source": [
        "##Load Dataset"
      ],
      "metadata": {
        "id": "d8Z0j0BA7hHR"
      }
    },
    {
      "cell_type": "code",
      "source": [
        "original_dataset=load_boston()"
      ],
      "metadata": {
        "id": "zUqwUNVnG6mS"
      },
      "execution_count": null,
      "outputs": []
    },
    {
      "cell_type": "code",
      "source": [
        "#split dataset into train and test set\n",
        "print(original_dataset.keys())\n",
        "X=pd.DataFrame(original_dataset['data'], columns = [original_dataset['feature_names']])\n",
        "y = original_dataset['target']\n",
        "X_train, X_test, y_train, y_test = train_test_split(X, y, test_size = 0.2)"
      ],
      "metadata": {
        "colab": {
          "base_uri": "https://localhost:8080/"
        },
        "id": "Qc9q4niKsw3T",
        "outputId": "d1dadde0-e808-4c17-e92f-5debb417e631"
      },
      "execution_count": 38,
      "outputs": [
        {
          "output_type": "stream",
          "name": "stdout",
          "text": [
            "dict_keys(['data', 'target', 'feature_names', 'DESCR', 'filename', 'data_module'])\n"
          ]
        }
      ]
    },
    {
      "cell_type": "markdown",
      "source": [
        "##Original dataset visualization "
      ],
      "metadata": {
        "id": "v6fP-qGCGKvT"
      }
    },
    {
      "cell_type": "code",
      "source": [
        "for x_value in original_dataset['feature_names']:\n",
        "  plt.scatter(X[x_value], y, label=x_value)\n",
        "plt.legend()"
      ],
      "metadata": {
        "colab": {
          "base_uri": "https://localhost:8080/",
          "height": 282
        },
        "id": "WJ9IDvxhB8YP",
        "outputId": "70b22ab9-12da-4264-bef3-74bc2e980226"
      },
      "execution_count": 82,
      "outputs": [
        {
          "output_type": "execute_result",
          "data": {
            "text/plain": [
              "<matplotlib.legend.Legend at 0x7f3624431810>"
            ]
          },
          "metadata": {},
          "execution_count": 82
        },
        {
          "output_type": "display_data",
          "data": {
            "text/plain": [
              "<Figure size 432x288 with 1 Axes>"
            ],
            "image/png": "[encoded data removed]"
          },
          "metadata": {
            "needs_background": "light"
          }
        }
      ]
    },
    {
      "cell_type": "markdown",
      "source": [
        "##Initiate sequential object "
      ],
      "metadata": {
        "id": "NgNLKPDW7q5U"
      }
    },
    {
      "cell_type": "code",
      "source": [
        "model = tf.keras.Sequential()"
      ],
      "metadata": {
        "id": "aBhD-psNHcCW"
      },
      "execution_count": 40,
      "outputs": []
    },
    {
      "cell_type": "markdown",
      "source": [
        "##Add Layers"
      ],
      "metadata": {
        "id": "kupxv4uS7498"
      }
    },
    {
      "cell_type": "code",
      "source": [
        "model.add(\n",
        "    tf.keras.layers.Dense(1),\n",
        "    )"
      ],
      "metadata": {
        "id": "7QoU1F6C77C9"
      },
      "execution_count": 41,
      "outputs": []
    },
    {
      "cell_type": "markdown",
      "source": [
        "##Compile"
      ],
      "metadata": {
        "id": "aib6uI0J7-3W"
      }
    },
    {
      "cell_type": "code",
      "source": [
        "model.compile(optimizer = 'SGD', loss = 'mae', metrics = 'mae')"
      ],
      "metadata": {
        "id": "zy_ex-ia8ArJ"
      },
      "execution_count": 65,
      "outputs": []
    },
    {
      "cell_type": "markdown",
      "source": [
        "##Fit"
      ],
      "metadata": {
        "id": "dV35NdEJ8D_R"
      }
    },
    {
      "cell_type": "code",
      "source": [
        "model.fit(X_train, y_train, epochs=1, batch_size=100)"
      ],
      "metadata": {
        "colab": {
          "base_uri": "https://localhost:8080/"
        },
        "id": "HkBUqN_78HHZ",
        "outputId": "8fa2fbbd-476f-4ea6-9259-7f101c37d98e"
      },
      "execution_count": 66,
      "outputs": [
        {
          "output_type": "stream",
          "name": "stdout",
          "text": [
            "5/5 [==============================] - 0s 4ms/step - loss: 1441.6230 - mae: 1441.6230\n"
          ]
        },
        {
          "output_type": "execute_result",
          "data": {
            "text/plain": [
              "<keras.callbacks.History at 0x7f36225559d0>"
            ]
          },
          "metadata": {},
          "execution_count": 66
        }
      ]
    },
    {
      "cell_type": "code",
      "source": [
        "model.evaluate(X_test, y_test)"
      ],
      "metadata": {
        "colab": {
          "base_uri": "https://localhost:8080/"
        },
        "id": "je1fU5i_8YuC",
        "outputId": "0b9c39fd-ba48-4f6f-c2c9-ecbd03db61b6"
      },
      "execution_count": 67,
      "outputs": [
        {
          "output_type": "stream",
          "name": "stdout",
          "text": [
            "4/4 [==============================] - 0s 3ms/step - loss: 2020.8700 - mae: 2020.8700\n"
          ]
        },
        {
          "output_type": "execute_result",
          "data": {
            "text/plain": [
              "[2020.8699951171875, 2020.8699951171875]"
            ]
          },
          "metadata": {},
          "execution_count": 67
        }
      ]
    },
    {
      "cell_type": "code",
      "source": [
        "def plot(x_value):\n",
        "  plt.scatter(x_value, y)\n"
      ],
      "metadata": {
        "id": "kQg5zos38-6e"
      },
      "execution_count": 73,
      "outputs": []
    },
    {
      "cell_type": "code",
      "source": [
        "original_dataset['feature_names']"
      ],
      "metadata": {
        "colab": {
          "base_uri": "https://localhost:8080/"
        },
        "id": "_6HZHaJ19Lxj",
        "outputId": "a3c142b4-7929-4cf9-a8de-642898ea5541"
      },
      "execution_count": 81,
      "outputs": [
        {
          "output_type": "execute_result",
          "data": {
            "text/plain": [
              "array(['CRIM', 'ZN', 'INDUS', 'CHAS', 'NOX', 'RM', 'AGE', 'DIS', 'RAD',\n",
              "       'TAX', 'PTRATIO', 'B', 'LSTAT'], dtype='<U7')"
            ]
          },
          "metadata": {},
          "execution_count": 81
        }
      ]
    },
    {
      "cell_type": "code",
      "source": [
        ""
      ],
      "metadata": {
        "id": "C9BoSWX9B7Ph"
      },
      "execution_count": null,
      "outputs": []
    },
    {
      "cell_type": "code",
      "source": [
        "print(original_dataset['DESCR'])"
      ],
      "metadata": {
        "colab": {
          "base_uri": "https://localhost:8080/"
        },
        "id": "3EwYXMe2AN3O",
        "outputId": "b5538d91-82a7-435c-d797-7fb8c6700396"
      },
      "execution_count": 72,
      "outputs": [
        {
          "output_type": "stream",
          "name": "stdout",
          "text": [
            ".. _boston_dataset:\n",
            "\n",
            "Boston house prices dataset\n",
            "---------------------------\n",
            "\n",
            "**Data Set Characteristics:**  \n",
            "\n",
            "    :Number of Instances: 506 \n",
            "\n",
            "    :Number of Attributes: 13 numeric/categorical predictive. Median Value (attribute 14) is usually the target.\n",
            "\n",
            "    :Attribute Information (in order):\n",
            "        - CRIM     per capita crime rate by town\n",
            "        - ZN       proportion of residential land zoned for lots over 25,000 sq.ft.\n",
            "        - INDUS    proportion of non-retail business acres per town\n",
            "        - CHAS     Charles River dummy variable (= 1 if tract bounds river; 0 otherwise)\n",
            "        - NOX      nitric oxides concentration (parts per 10 million)\n",
            "        - RM       average number of rooms per dwelling\n",
            "        - AGE      proportion of owner-occupied units built prior to 1940\n",
            "        - DIS      weighted distances to five Boston employment centres\n",
            "        - RAD      index of accessibility to radial highways\n",
            "        - TAX      full-value property-tax rate per $10,000\n",
            "        - PTRATIO  pupil-teacher ratio by town\n",
            "        - B        1000(Bk - 0.63)^2 where Bk is the proportion of black people by town\n",
            "        - LSTAT    % lower status of the population\n",
            "        - MEDV     Median value of owner-occupied homes in $1000's\n",
            "\n",
            "    :Missing Attribute Values: None\n",
            "\n",
            "    :Creator: Harrison, D. and Rubinfeld, D.L.\n",
            "\n",
            "This is a copy of UCI ML housing dataset.\n",
            "https://archive.ics.uci.edu/ml/machine-learning-databases/housing/\n",
            "\n",
            "\n",
            "This dataset was taken from the StatLib library which is maintained at Carnegie Mellon University.\n",
            "\n",
            "The Boston house-price data of Harrison, D. and Rubinfeld, D.L. 'Hedonic\n",
            "prices and the demand for clean air', J. Environ. Economics & Management,\n",
            "vol.5, 81-102, 1978.   Used in Belsley, Kuh & Welsch, 'Regression diagnostics\n",
            "...', Wiley, 1980.   N.B. Various transformations are used in the table on\n",
            "pages 244-261 of the latter.\n",
            "\n",
            "The Boston house-price data has been used in many machine learning papers that address regression\n",
            "problems.   \n",
            "     \n",
            ".. topic:: References\n",
            "\n",
            "   - Belsley, Kuh & Welsch, 'Regression diagnostics: Identifying Influential Data and Sources of Collinearity', Wiley, 1980. 244-261.\n",
            "   - Quinlan,R. (1993). Combining Instance-Based and Model-Based Learning. In Proceedings on the Tenth International Conference of Machine Learning, 236-243, University of Massachusetts, Amherst. Morgan Kaufmann.\n",
            "\n"
          ]
        }
      ]
    },
    {
      "cell_type": "code",
      "source": [
        ""
      ],
      "metadata": {
        "id": "hvAkyw1fAvPt"
      },
      "execution_count": null,
      "outputs": []
    }
  ]
}
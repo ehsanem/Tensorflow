{
  "nbformat": 4,
  "nbformat_minor": 0,
  "metadata": {
    "colab": {
      "name": "TensorflowFundamental.ipynb",
      "provenance": [],
      "collapsed_sections": [
        "K5HFULipgtEQ",
        "KIy5C10Ng0tX",
        "SZxh46t3hGjl",
        "AB_Ml_ffhhB8",
        "F_77KO6IhvWw",
        "LOsnD9Tgh_ri",
        "o6rIVFgYiHOr",
        "6qtJRGXiiL1A",
        "13yM-nmbiSqz",
        "mwpcs4EYiZdG",
        "iiEm6d4iifGW",
        "Jn0nJjshilRl",
        "rEZAb_3Fip7j",
        "62QBjxlwiv3L",
        "eC73Y3qRi0kC",
        "cff8y3CTi5KC",
        "8W_QWGjFi8ka",
        "2beOAUwTjDaF",
        "tvuFTxh4jJX3",
        "jmGTZUUBjSRe",
        "CFZiZ39ijWK9",
        "vVoH_e7vjtXn",
        "fRhIbq61jxNg",
        "3OvWBqrDj-Cb",
        "RNYgowBIlOfx",
        "kNXqBgCUmaN-",
        "mjvvZFLXnrnu"
      ],
      "toc_visible": true,
      "authorship_tag": "ABX9TyMqpAe1By+Js88nazg4j4mX",
      "include_colab_link": true
    },
    "kernelspec": {
      "name": "python3",
      "display_name": "Python 3"
    },
    "language_info": {
      "name": "python"
    }
  },
  "cells": [
    {
      "cell_type": "markdown",
      "metadata": {
        "id": "view-in-github",
        "colab_type": "text"
      },
      "source": [
        "<a href=\"https://colab.research.google.com/github/ehsanem/Tensorflow/blob/main/TensorflowFundamental.ipynb\" target=\"_parent\"><img src=\"https://colab.research.google.com/assets/colab-badge.svg\" alt=\"Open In Colab\"/></a>"
      ]
    },
    {
      "cell_type": "code",
      "source": [
        "import tensorflow as tf"
      ],
      "metadata": {
        "id": "RkxlG5zwbQPl"
      },
      "execution_count": 1,
      "outputs": []
    },
    {
      "cell_type": "markdown",
      "source": [
        "# Types of tensors\n",
        "**scaler:** It is just a number or numbers\n",
        "\n",
        "**vector:** A series of numbers with direction\n",
        "\n",
        "**matrix:** A two-dimensional array of numbers\n",
        "\n",
        "**tensor:** An n-dimensional array of numbers"
      ],
      "metadata": {
        "id": "8YfSTWx3eUwg"
      }
    },
    {
      "cell_type": "markdown",
      "source": [
        "#Working with Tensors\n"
      ],
      "metadata": {
        "id": "TbjeTKrXe4LG"
      }
    },
    {
      "cell_type": "markdown",
      "source": [
        "## Methods of creating tensors\n",
        "Two methods to create tensors"
      ],
      "metadata": {
        "id": "_gqtt-KcgV5D"
      }
    },
    {
      "cell_type": "code",
      "execution_count": null,
      "metadata": {
        "id": "DHKjJKmwbO_8"
      },
      "outputs": [],
      "source": [
        "tf.constant()\n",
        "tf.variable()"
      ]
    },
    {
      "cell_type": "markdown",
      "source": [
        "##Methods of getting tensor info"
      ],
      "metadata": {
        "id": "K5HFULipgtEQ"
      }
    },
    {
      "cell_type": "code",
      "source": [
        ".ndim : returns number of columns\n",
        ".shape : returns tensor shape : ([x,y,z]) where x is the number of samples, y is number of rows in each sample and z is number of features.\n",
        ".size: returns the number of all elements in the tensor"
      ],
      "metadata": {
        "id": "iktVymt8gw6a"
      },
      "execution_count": null,
      "outputs": []
    },
    {
      "cell_type": "markdown",
      "source": [
        "##Change an element value in a tensor\n",
        "We can change an element of a variable tensor. In order to change an element of a variable tensor we have to use **.assign** method:"
      ],
      "metadata": {
        "id": "KIy5C10Ng0tX"
      }
    },
    {
      "cell_type": "code",
      "source": [
        "change_element = tf.variable([[[1,2,2],\n",
        "[2,5,5],\n",
        "[8,9,9],\n",
        "[5,7,7]],[[1,2,2],\n",
        "[2,5,5],\n",
        "[8,9,9],\n",
        "[5,7,7]]])\n",
        "\n",
        "change_element[0][0][0].assign(0)"
      ],
      "metadata": {
        "id": "EtAiQq6Xg4be"
      },
      "execution_count": null,
      "outputs": []
    },
    {
      "cell_type": "markdown",
      "source": [
        "##Creating random tensor\n",
        "We need to create random tensor for the first time of model building. This random tensor would be the tensor of weights:"
      ],
      "metadata": {
        "id": "SZxh46t3hGjl"
      }
    },
    {
      "cell_type": "code",
      "source": [
        "random_1 = tf.random.Generator.from_seed(42)\n",
        "tf.constant(np.random.randint(0,100,size=50))"
      ],
      "metadata": {
        "id": "gbszgJa3hJnL"
      },
      "execution_count": null,
      "outputs": []
    },
    {
      "cell_type": "markdown",
      "source": [
        "##Creating random tensor with a distribution"
      ],
      "metadata": {
        "id": "OGrAEWwYhQ2-"
      }
    },
    {
      "cell_type": "markdown",
      "source": [
        "###Normal distribution"
      ],
      "metadata": {
        "id": "gFjlyil2havg"
      }
    },
    {
      "cell_type": "code",
      "source": [
        "random_1.normal(shape = (3,2))"
      ],
      "metadata": {
        "id": "YeelBhV4hcfo"
      },
      "execution_count": null,
      "outputs": []
    },
    {
      "cell_type": "markdown",
      "source": [
        "###Uniform distribution"
      ],
      "metadata": {
        "id": "AB_Ml_ffhhB8"
      }
    },
    {
      "cell_type": "code",
      "source": [
        "random_1.normal(shape = (3,2))"
      ],
      "metadata": {
        "id": "ziCVcYNuhrse"
      },
      "execution_count": null,
      "outputs": []
    },
    {
      "cell_type": "markdown",
      "source": [
        "##Shuffle tensor data\n",
        "There are two setting for shuffling seed:\n",
        "1. global seed\n",
        "2. operation seed:\n"
      ],
      "metadata": {
        "id": "F_77KO6IhvWw"
      }
    },
    {
      "cell_type": "code",
      "source": [
        "tf.random.set_seed(42) (global)\n",
        "tf.random.shuffle(random_1,seed=42) (operational)"
      ],
      "metadata": {
        "id": "RfPwcIGkh5_l"
      },
      "execution_count": null,
      "outputs": []
    },
    {
      "cell_type": "markdown",
      "source": [
        "##Add an extra dimension to a tensor"
      ],
      "metadata": {
        "id": "LOsnD9Tgh_ri"
      }
    },
    {
      "cell_type": "markdown",
      "source": [
        "###tf.newaxis"
      ],
      "metadata": {
        "id": "o6rIVFgYiHOr"
      }
    },
    {
      "cell_type": "code",
      "source": [
        "example = tensor[...,tf.newaxis]"
      ],
      "metadata": {
        "id": "CmqU_ELsiCc0"
      },
      "execution_count": null,
      "outputs": []
    },
    {
      "cell_type": "markdown",
      "source": [
        "###tf.expand_dims"
      ],
      "metadata": {
        "id": "6qtJRGXiiL1A"
      }
    },
    {
      "cell_type": "code",
      "source": [
        "example = tf.expand_dims(tensor, axis=0)\n",
        "# the axis can be anything: -1, 0, 1,..."
      ],
      "metadata": {
        "id": "3xGQX3aTiO5B"
      },
      "execution_count": null,
      "outputs": []
    },
    {
      "cell_type": "markdown",
      "source": [
        "##Tensor Basic Operations"
      ],
      "metadata": {
        "id": "13yM-nmbiSqz"
      }
    },
    {
      "cell_type": "code",
      "source": [
        "tf.multiply(tensor, 10)\n",
        "tf.add(tensor, 10)"
      ],
      "metadata": {
        "id": "aUqzMdSoiX3H"
      },
      "execution_count": null,
      "outputs": []
    },
    {
      "cell_type": "markdown",
      "source": [
        "##Tensor dot product"
      ],
      "metadata": {
        "id": "mwpcs4EYiZdG"
      }
    },
    {
      "cell_type": "code",
      "source": [
        "tf.matmul(tensor1, tensor2)\n",
        "tf.tensordot(tensor1, tensor2)"
      ],
      "metadata": {
        "id": "yZacTnBUidVD"
      },
      "execution_count": null,
      "outputs": []
    },
    {
      "cell_type": "markdown",
      "source": [
        "##Tensor Transpose"
      ],
      "metadata": {
        "id": "iiEm6d4iifGW"
      }
    },
    {
      "cell_type": "code",
      "source": [
        "tf.transpose(tensor1)"
      ],
      "metadata": {
        "id": "GpaUyslZijmU"
      },
      "execution_count": null,
      "outputs": []
    },
    {
      "cell_type": "markdown",
      "source": [
        "##Tensor reshape"
      ],
      "metadata": {
        "id": "Jn0nJjshilRl"
      }
    },
    {
      "cell_type": "code",
      "source": [
        "tf.reshape(tensor, shape=(2,3))"
      ],
      "metadata": {
        "id": "GNRLaQfSioPm"
      },
      "execution_count": null,
      "outputs": []
    },
    {
      "cell_type": "markdown",
      "source": [
        "##Tensor datatype precision"
      ],
      "metadata": {
        "id": "rEZAb_3Fip7j"
      }
    },
    {
      "cell_type": "code",
      "source": [
        "tf.cast(tensor, dtype = tf.float16)"
      ],
      "metadata": {
        "id": "rMX0mWIhiuQb"
      },
      "execution_count": null,
      "outputs": []
    },
    {
      "cell_type": "markdown",
      "source": [
        "##Tensor Aggregation"
      ],
      "metadata": {
        "id": "62QBjxlwiv3L"
      }
    },
    {
      "cell_type": "markdown",
      "source": [
        "###absolute values"
      ],
      "metadata": {
        "id": "eC73Y3qRi0kC"
      }
    },
    {
      "cell_type": "code",
      "source": [
        "tf.abs(tensor)"
      ],
      "metadata": {
        "id": "VCUe9fNwi27f"
      },
      "execution_count": null,
      "outputs": []
    },
    {
      "cell_type": "markdown",
      "source": [
        "###minimum"
      ],
      "metadata": {
        "id": "cff8y3CTi5KC"
      }
    },
    {
      "cell_type": "code",
      "source": [
        "tf.reduce_min(tensor)"
      ],
      "metadata": {
        "id": "2h8lplvfi7JC"
      },
      "execution_count": null,
      "outputs": []
    },
    {
      "cell_type": "markdown",
      "source": [
        "###max"
      ],
      "metadata": {
        "id": "8W_QWGjFi8ka"
      }
    },
    {
      "cell_type": "code",
      "source": [
        "tf.reduce_max(tensor)"
      ],
      "metadata": {
        "id": "ywwMhp7hi-bE"
      },
      "execution_count": null,
      "outputs": []
    },
    {
      "cell_type": "markdown",
      "source": [
        "###mean"
      ],
      "metadata": {
        "id": "2beOAUwTjDaF"
      }
    },
    {
      "cell_type": "code",
      "source": [
        "tf.reduce_mean(tensor)"
      ],
      "metadata": {
        "id": "CUzIH_jCjFNu"
      },
      "execution_count": null,
      "outputs": []
    },
    {
      "cell_type": "markdown",
      "source": [
        "###sum"
      ],
      "metadata": {
        "id": "tvuFTxh4jJX3"
      }
    },
    {
      "cell_type": "code",
      "source": [
        "tf.reduce_sum(tensor)"
      ],
      "metadata": {
        "id": "B1fbbw7PjLxa"
      },
      "execution_count": null,
      "outputs": []
    },
    {
      "cell_type": "markdown",
      "source": [
        "###std"
      ],
      "metadata": {
        "id": "jmGTZUUBjSRe"
      }
    },
    {
      "cell_type": "code",
      "source": [
        "tf.reduce_std(tensor)"
      ],
      "metadata": {
        "id": "UYd-t0wojUZQ"
      },
      "execution_count": null,
      "outputs": []
    },
    {
      "cell_type": "markdown",
      "source": [
        "###variance"
      ],
      "metadata": {
        "id": "CFZiZ39ijWK9"
      }
    },
    {
      "cell_type": "code",
      "source": [
        "tf.reduce_variance(tensor)"
      ],
      "metadata": {
        "id": "Z6OdIrszjYxV"
      },
      "execution_count": null,
      "outputs": []
    },
    {
      "cell_type": "markdown",
      "source": [
        "##Finding max/min value & its index in a tensor"
      ],
      "metadata": {
        "id": "vVoH_e7vjtXn"
      }
    },
    {
      "cell_type": "code",
      "source": [
        "tf.argmax(tensor)\n",
        "tf.argmin(tensor)\n",
        "tensor[tf.argmax(tensor)]\n",
        "tensor[tf.argmax(tensor)] == tf.reduce_max(tensor)"
      ],
      "metadata": {
        "id": "ODHUDn8Kjuin"
      },
      "execution_count": null,
      "outputs": []
    },
    {
      "cell_type": "markdown",
      "source": [
        "##Squeezing Tensor\n",
        "It means removing all one dimension:"
      ],
      "metadata": {
        "id": "fRhIbq61jxNg"
      }
    },
    {
      "cell_type": "code",
      "source": [
        "tf.squeeze(tensor)"
      ],
      "metadata": {
        "id": "Ry5sMTJMj7nU"
      },
      "execution_count": null,
      "outputs": []
    },
    {
      "cell_type": "markdown",
      "source": [
        "##One-hot encoding"
      ],
      "metadata": {
        "id": "3OvWBqrDj-Cb"
      }
    },
    {
      "cell_type": "code",
      "source": [
        "tf.one_hot(tensor, depth = 0,1,2,3,...)\n",
        "tf.one_hot(tensor, depth= 0,1,2,3,..., on_value = 'lablalbl' off_value = 'bfbfbfbf')"
      ],
      "metadata": {
        "id": "I1KUuxFjkAic"
      },
      "execution_count": null,
      "outputs": []
    },
    {
      "cell_type": "markdown",
      "source": [
        "##Tensor math operation"
      ],
      "metadata": {
        "id": "1uii_-HRkCZ5"
      }
    },
    {
      "cell_type": "code",
      "source": [
        "tf.square(tensor)\n",
        "tf.sqrt(tensor)"
      ],
      "metadata": {
        "id": "mHx6dwjZkK5T"
      },
      "execution_count": null,
      "outputs": []
    },
    {
      "cell_type": "markdown",
      "source": [
        "---\n",
        "**NOTE**\n",
        "\n",
        " ***If we create a tensor from a NumPy array, the data is \n",
        "float64 but when we create it with TensorFlow it would be float32***\n",
        "\n",
        "---"
      ],
      "metadata": {
        "id": "QeCcBEOWkOzW"
      }
    },
    {
      "cell_type": "markdown",
      "source": [
        "##Check CPU/GPU"
      ],
      "metadata": {
        "id": "RNYgowBIlOfx"
      }
    },
    {
      "cell_type": "code",
      "source": [
        "tf.config.list_physical_devices"
      ],
      "metadata": {
        "id": "0_o66XpSlSuJ"
      },
      "execution_count": null,
      "outputs": []
    },
    {
      "cell_type": "markdown",
      "source": [
        "#Model creation steps\n",
        "\n",
        "1. create sequential object\n",
        "2. add layers of the neural network\n",
        "3. compile: set hyperparameters\n",
        "4. fit the model to the dataset\n",
        "5. use predict to evaluate the model\n",
        "\n",
        "EXAMPLE\n"
      ],
      "metadata": {
        "id": "sOpoXM5LlkN4"
      }
    },
    {
      "cell_type": "code",
      "source": [
        "model = tf.keras.Sequential()\n",
        "model.add(tf.keras.layers.Dense(100))\n",
        "model.add(tf.keras.layers.Dense(1))\n",
        "model.compile(optimizer='Adam', loss='mae', metrics='mae')\n",
        "\n",
        "model.fit(X_train_tensor, y_train_tensor, epochs=100)"
      ],
      "metadata": {
        "id": "9NBzuB4KmHC_"
      },
      "execution_count": null,
      "outputs": []
    },
    {
      "cell_type": "markdown",
      "source": [
        "Define a model while creating the sequential object"
      ],
      "metadata": {
        "id": "4D5eGAz0mMLF"
      }
    },
    {
      "cell_type": "code",
      "source": [
        "model = tf.keras.Sequential(\n",
        "[\n",
        "tf.keras.layers.Dense(100),\n",
        "tf.keras.layers.Dense(1)\n",
        "])"
      ],
      "metadata": {
        "id": "S7kwNA30mUu5"
      },
      "execution_count": null,
      "outputs": []
    },
    {
      "cell_type": "markdown",
      "source": [
        "##1. Create model object"
      ],
      "metadata": {
        "id": "kNXqBgCUmaN-"
      }
    },
    {
      "cell_type": "code",
      "source": [
        "model = tf.keras.sequential()"
      ],
      "metadata": {
        "id": "TwSgWPOFmuU_"
      },
      "execution_count": null,
      "outputs": []
    },
    {
      "cell_type": "markdown",
      "source": [
        "##2. Add layers(method of model object)\n",
        "There are many types of layers and we can use them based on the type of problem that we are facing with.\n",
        "\n",
        "Built-in layers in TF are:\n",
        "https://www.tensorflow.org/api_docs/python/tf/keras/layers\n"
      ],
      "metadata": {
        "id": "Hj-DgeKemwE6"
      }
    },
    {
      "cell_type": "markdown",
      "source": [
        "###Dense Layer\n",
        "The most common is Dense layer. It is called dense because all neurons are connected to each other.\n",
        "\n",
        "A layer can be added to the model with the following syntax:"
      ],
      "metadata": {
        "id": "bR3-HH4bnXf9"
      }
    },
    {
      "cell_type": "code",
      "source": [
        "model.add(tf.keras.layers.Dense(...))"
      ],
      "metadata": {
        "id": "wO-yxqkSnZSc"
      },
      "execution_count": null,
      "outputs": []
    },
    {
      "cell_type": "markdown",
      "source": [
        "####Dense layer parameters\n",
        "1. **units**: Number of neurons in the layer (type:integer)\n",
        "2. **activation**: a function that decides whether the input is important enough to be allowed to enter the next level of the modelling.(type: string)\n",
        "There are **16 types** of built-in activation functions (the famous one is Relu):\n",
        "https://www.tensorflow.org/api_docs/python/tf/keras/activations\n",
        "3. **use_bias**: whether the weight matrix for this layer uses bias vector or not.(type: Boolean)\n",
        "4. **kernel_initializer**: weight matrix initializer. It can be an initialized matrix with a specified distribution.(type:Tensor) There are 31 types of built-in distributions in the TF:https://www.tensorflow.org/api_docs/python/tf/keras/initializers\n",
        "5. **bias_initializer**: a matrix for bias values (b values) of the loss function (f=ax+b) (type: Tensor)\n",
        "6. **kernel_regularizer**: Regularizers are a set of rules to apply penalties during optimization. They are part of the loss function. There are 3 types of built-in regularizers and also it is possible to define custom regularizers:**L1, L2, L!L2**\n",
        "\n",
        "EXAMPLE\n",
        "\n",
        "\n",
        "```\n",
        "layer = layers.Dense(\n",
        "units=64,\n",
        "kernel_regularizer=regularizers.L1L2(l1=1e-5, l2=1e-4),\n",
        "bias_regularizer=regularizers.L2(1e-4),\n",
        "activity_regularizer=regularizers.L2(1e-5)\n",
        ")\n",
        "```\n",
        "\n",
        "7. **bias_regularizer**: Same as above but apply to bias value\n",
        "8. **activity_regularizer**: regularizer for a layer's output\n",
        "9. **kernel_constraint**: Apply constraint on model weights matrix. for example non-negative constraint.\n",
        "There are built-in weight constraints: **MaxNorm,\n",
        "MinMaxNorm,\n",
        "NonNeg,\n",
        "UnitNorm**\n",
        "10. **Radial Constraint**: It is possible to define a custom constraint\n",
        "11. **bias_constraint**: Same as above but apply to bias values\n"
      ],
      "metadata": {
        "id": "mjvvZFLXnrnu"
      }
    },
    {
      "cell_type": "markdown",
      "source": [
        "##3. Compile (method of model object)\n",
        "After adding layers to the model, we need to define the hyperparameters of the model. For this purpose, we have to use compile method.\n",
        "\n",
        "EXAMPLE"
      ],
      "metadata": {
        "id": "17HmQ6NgqsNm"
      }
    },
    {
      "cell_type": "code",
      "source": [
        "model.compile(optimizer='Adam', loss='mae', metrics='mae')"
      ],
      "metadata": {
        "id": "IIhbum53sYLW"
      },
      "execution_count": null,
      "outputs": []
    },
    {
      "cell_type": "markdown",
      "source": [
        "###Complie parameters\n",
        "1. **optimizer**(type:string): An optimizer is a method which uses to converge the minimum points. There are different types of optimizers: **Adadelta,\n",
        "adagrad,\n",
        "Adam,\n",
        "Adamax,\n",
        "Ftrl,\n",
        "Nadam,\n",
        "Optimizer,\n",
        "RMSprop,\n",
        "SGD**\n",
        "2. **loss** (type:string): The loss function is used to optimize the model. This is the function that will get minimized by the optimizer. A function which calculates the difference between real value and predicted .There are 18 different types of optimizers:\n",
        "https://www.tensorflow.org/api_docs/python/tf/keras/losses\n",
        "3. **metric**(type:string): A metric is used to judge the performance of the model.\n",
        "There are 43 different types of metrics:\n",
        "https://www.tensorflow.org/api_docs/python/tf/keras/metrics\n",
        "4. **loss_weights**\n",
        "5. **weighted_metrics**\n",
        "6. **run_eagerly**\n",
        "7. **steps_per_execution**\n",
        "8. **jit_compile**"
      ],
      "metadata": {
        "id": "2WAgK0YDsY_0"
      }
    },
    {
      "cell_type": "markdown",
      "source": [
        "##4. Fit(method of model object)\n",
        "EXAMPLE\n",
        "```\n",
        "model.fit(X_train_tensor, y_train_tensor, epochs=100)\n",
        "```\n"
      ],
      "metadata": {
        "id": "2Of-NyQ0tv-G"
      }
    },
    {
      "cell_type": "markdown",
      "source": [
        "##fit parameters\n",
        "1. **x**\n",
        "2. **y**\n",
        "3. **batch_size**: The fraction of all training samples which the network uses to train the model in each epoch.\n",
        "There are 3 technics for batch size selection:\n",
        "  **Batch**: uses all samples in a single batch\n",
        "  ; **Mini-batch**: divide the dataset into batches with equal samples except for the last batch, which contains the remaining samples. for example, 14 samples with 3 batches will be: 5 - 5 - 4\n",
        "  ; **Stochastic**: each sample is a batch\n",
        "\n",
        "4. **epochs**: The number of times that all training samples used to train the model\n",
        "5. **verbose**: The explanation of fit process. accepted values: 0, 1, 2\n",
        "6. **callbacks**: Callback is a very important property of fit method. the config of callback has a direct impact on the model accuracy.\n",
        "7. **validation_split**: the fraction of training data for validation. between 0 and 1.\n",
        "8. **validation_data**: validation dataset\n",
        "9. **shuffle**: shuffle the training data before each epoch. BOOLEAN\n",
        "10. **class_weight**\n",
        "11. **sample_weight**\n",
        "12. **initial_epoch**\n",
        "13. **steps_per_epoch**\n",
        "14. **validation_steps**\n",
        "15. **validation_batch_size**\n",
        "16. **validation_freq**\n",
        "17. **max_queue_size**\n",
        "18. **workers**\n",
        "19. **use_multiprocessing**"
      ],
      "metadata": {
        "id": "z9EYrLWvuKRv"
      }
    },
    {
      "cell_type": "markdown",
      "source": [
        "##Other model methods\n",
        "5. **call**: Calls the model on new inputs\n",
        "**compute_loss**: Compute the total loss in the training mode,\n",
        "6. **compute_metric**: update metrics\n",
        "7. **evaluate**: Returns the loss value & metrics values for the model in test mode\n",
        "8. **load_weights**: load saved weights from previously built models.\n",
        "9. **save**\n",
        "10. **to_json**\n",
        "11. **To_yaml**\n",
        "12. **summary**\n",
        "\n"
      ],
      "metadata": {
        "id": "EcPgu9tBwL-H"
      }
    },
    {
      "cell_type": "markdown",
      "source": [
        "---\n",
        "\n",
        "**NOTE**\n",
        "\n",
        "***evaluate gives the loss value but, predict only gives the predicted values***\n",
        "\n",
        "---\n",
        "**NOTE**\n",
        "\n",
        "***There are other methods for model but the most useful ones are mentioned***"
      ],
      "metadata": {
        "id": "kBoHAC3rxLS8"
      }
    },
    {
      "cell_type": "markdown",
      "source": [
        "#Loss curve/Training curve\n",
        "A curve that shows loss value in each epoche"
      ],
      "metadata": {
        "id": "Bdmy-m9qMqDK"
      }
    },
    {
      "cell_type": "code",
      "source": [
        "history = model.fit(...)"
      ],
      "metadata": {
        "id": "DebQYrk0M1H5"
      },
      "execution_count": null,
      "outputs": []
    },
    {
      "cell_type": "markdown",
      "source": [
        "#Save and load models\n",
        "Create a function to build model:"
      ],
      "metadata": {
        "id": "OrW4jMYqy27V"
      }
    },
    {
      "cell_type": "code",
      "source": [
        "def create_model():\n",
        "  model = tf.keras.Sequential([\n",
        "    keras.layers.Dense(512, activation='relu', input_shape=(784,)),\n",
        "    keras.layers.Dropout(0.2),\n",
        "    keras.layers.Dense(10)\n",
        "  ])\n",
        "  model.compile(optimizer='adam',\n",
        "                loss=tf.losses.SparseCategoricalCrossentropy(from_logits=True),\n",
        "                metrics=[tf.metrics.SparseCategoricalAccuracy()])\n",
        "\n",
        "  return model"
      ],
      "metadata": {
        "id": "pvJAwbbBzAo5"
      },
      "execution_count": null,
      "outputs": []
    },
    {
      "cell_type": "markdown",
      "source": [
        "##Save model weights\n",
        "Use callbacks to save model weights during training. In TF it calls checkpoints:\n"
      ],
      "metadata": {
        "id": "msnMqRITzGah"
      }
    },
    {
      "cell_type": "code",
      "source": [
        "model = create_model()\n",
        "\n",
        "cp_callback = tf.keras.callbacks.ModelCheckpoint(file_path=..., save_weights_only = True,\n",
        "Verbose=1,\n",
        "save_freq=5*batch_size\n",
        ")\n",
        "\n",
        "model.fit(X_train, y_train, epochs = 10, callbacks = [cp_callback])"
      ],
      "metadata": {
        "id": "Crcb3FvS5bLd"
      },
      "execution_count": null,
      "outputs": []
    },
    {
      "cell_type": "markdown",
      "source": [
        "**save_freq** save weights every 5 epoches"
      ],
      "metadata": {
        "id": "URoAP_125eYX"
      }
    },
    {
      "cell_type": "markdown",
      "source": [
        "##Load model weights\n",
        "It is possible to use saved weights for any model with similar architecture."
      ],
      "metadata": {
        "id": "z8yJG0pJ5l7r"
      }
    },
    {
      "cell_type": "code",
      "source": [
        "model = create_model()\n",
        "model.load_weights(checkpoint_file_path)\n"
      ],
      "metadata": {
        "id": "aO6i_l4F5zz3"
      },
      "execution_count": null,
      "outputs": []
    },
    {
      "cell_type": "markdown",
      "source": [
        "##Save entire model\n",
        "Default model file save in SavedModel format"
      ],
      "metadata": {
        "id": "cm0E949l51uZ"
      }
    },
    {
      "cell_type": "code",
      "source": [
        "model = create_model()\n",
        "model.save(file_path)"
      ],
      "metadata": {
        "id": "56dzHRtr530M"
      },
      "execution_count": null,
      "outputs": []
    },
    {
      "cell_type": "markdown",
      "source": [
        "Model also can be saved in HDF5 format"
      ],
      "metadata": {
        "id": "S-qjfXYj5_Sv"
      }
    },
    {
      "cell_type": "code",
      "source": [
        "model = create_model()\n",
        "model.save(filename.h5)"
      ],
      "metadata": {
        "id": "E9X2rcQ46Dvw"
      },
      "execution_count": null,
      "outputs": []
    },
    {
      "cell_type": "markdown",
      "source": [
        "##Load entire model"
      ],
      "metadata": {
        "id": "-KcRWKE-6aI2"
      }
    },
    {
      "cell_type": "code",
      "source": [
        "new_model = tf.keras.models.loads_model(model_file)\n",
        "new_model.summary()\n"
      ],
      "metadata": {
        "id": "FQodN-HL6jMq"
      },
      "execution_count": null,
      "outputs": []
    },
    {
      "cell_type": "markdown",
      "source": [
        "##Download from Colab"
      ],
      "metadata": {
        "id": "q8MLkodz6kta"
      }
    },
    {
      "cell_type": "code",
      "source": [
        "from google.colab import files\n",
        "files.download(path)"
      ],
      "metadata": {
        "id": "CcceiKFa6m28"
      },
      "execution_count": null,
      "outputs": []
    },
    {
      "cell_type": "code",
      "source": [
        "Or copy a file from one place to another"
      ],
      "metadata": {
        "id": "ikAl1I_t7AuE"
      },
      "execution_count": null,
      "outputs": []
    },
    {
      "cell_type": "code",
      "source": [
        "!cp origin_path destination_path"
      ],
      "metadata": {
        "id": "74n81cYg7FGM"
      },
      "execution_count": null,
      "outputs": []
    },
    {
      "cell_type": "markdown",
      "source": [
        "#DL experiments tracking tools (TF plugin)\n",
        "1. TensorBoard\n",
        "2. Weights and Biases\n",
        "\n"
      ],
      "metadata": {
        "id": "CpAfkPdPxSqQ"
      }
    },
    {
      "cell_type": "markdown",
      "source": [
        "#Review with an example\n",
        "Model optimization steps:\n",
        "\n",
        "**Config 1**:\n",
        "units=1, activation=None, epoches=1, batch_size=5, optimizer = SGD\n",
        "\n",
        "**Config 2**:\n",
        "units=1, activation=None, epoches=100, batch_size=5, optimizer = SGD\n",
        "\n",
        "**Config 3**:\n",
        "units=1, activation='Relu', epoches=100, optimizer = SGD"
      ],
      "metadata": {
        "id": "YGtPqwqn7H2J"
      }
    },
    {
      "cell_type": "code",
      "source": [
        "import tensorflow as tf\n",
        "import pandas as pd\n",
        "from sklearn.datasets import load_boston\n",
        "from sklearn.model_selection import train_test_split\n",
        "from matplotlib import pyplot as plt\n"
      ],
      "metadata": {
        "id": "Yj4M2ng-t3Se"
      },
      "execution_count": 2,
      "outputs": []
    },
    {
      "cell_type": "markdown",
      "source": [
        "##Load Dataset"
      ],
      "metadata": {
        "id": "d8Z0j0BA7hHR"
      }
    },
    {
      "cell_type": "code",
      "source": [
        "original_dataset=load_boston()"
      ],
      "metadata": {
        "colab": {
          "base_uri": "https://localhost:8080/"
        },
        "id": "zUqwUNVnG6mS",
        "outputId": "6691ffe2-2afc-48bf-a59c-b6b507521f7b"
      },
      "execution_count": 3,
      "outputs": [
        {
          "output_type": "stream",
          "name": "stderr",
          "text": [
            "/usr/local/lib/python3.7/dist-packages/sklearn/utils/deprecation.py:87: FutureWarning: Function load_boston is deprecated; `load_boston` is deprecated in 1.0 and will be removed in 1.2.\n",
            "\n",
            "    The Boston housing prices dataset has an ethical problem. You can refer to\n",
            "    the documentation of this function for further details.\n",
            "\n",
            "    The scikit-learn maintainers therefore strongly discourage the use of this\n",
            "    dataset unless the purpose of the code is to study and educate about\n",
            "    ethical issues in data science and machine learning.\n",
            "\n",
            "    In this special case, you can fetch the dataset from the original\n",
            "    source::\n",
            "\n",
            "        import pandas as pd\n",
            "        import numpy as np\n",
            "\n",
            "\n",
            "        data_url = \"http://lib.stat.cmu.edu/datasets/boston\"\n",
            "        raw_df = pd.read_csv(data_url, sep=\"\\s+\", skiprows=22, header=None)\n",
            "        data = np.hstack([raw_df.values[::2, :], raw_df.values[1::2, :2]])\n",
            "        target = raw_df.values[1::2, 2]\n",
            "\n",
            "    Alternative datasets include the California housing dataset (i.e.\n",
            "    :func:`~sklearn.datasets.fetch_california_housing`) and the Ames housing\n",
            "    dataset. You can load the datasets as follows::\n",
            "\n",
            "        from sklearn.datasets import fetch_california_housing\n",
            "        housing = fetch_california_housing()\n",
            "\n",
            "    for the California housing dataset and::\n",
            "\n",
            "        from sklearn.datasets import fetch_openml\n",
            "        housing = fetch_openml(name=\"house_prices\", as_frame=True)\n",
            "\n",
            "    for the Ames housing dataset.\n",
            "    \n",
            "  warnings.warn(msg, category=FutureWarning)\n"
          ]
        }
      ]
    },
    {
      "cell_type": "code",
      "source": [
        "#split dataset into train and test set\n",
        "print(original_dataset.keys())\n",
        "X=pd.DataFrame(original_dataset['data'], columns = [original_dataset['feature_names']])\n",
        "y = original_dataset['target']\n",
        "X_train, X_test, y_train, y_test = train_test_split(X, y, test_size = 0.2)"
      ],
      "metadata": {
        "colab": {
          "base_uri": "https://localhost:8080/"
        },
        "id": "Qc9q4niKsw3T",
        "outputId": "e122f615-db77-447d-a43f-9b71ad392097"
      },
      "execution_count": 4,
      "outputs": [
        {
          "output_type": "stream",
          "name": "stdout",
          "text": [
            "dict_keys(['data', 'target', 'feature_names', 'DESCR', 'filename', 'data_module'])\n"
          ]
        }
      ]
    },
    {
      "cell_type": "markdown",
      "source": [
        "##Original dataset visualization "
      ],
      "metadata": {
        "id": "v6fP-qGCGKvT"
      }
    },
    {
      "cell_type": "code",
      "source": [
        "for x_value in original_dataset['feature_names']:\n",
        "  plt.scatter(X[x_value], y, label=x_value)\n",
        "plt.legend()"
      ],
      "metadata": {
        "colab": {
          "base_uri": "https://localhost:8080/",
          "height": 282
        },
        "id": "WJ9IDvxhB8YP",
        "outputId": "70b22ab9-12da-4264-bef3-74bc2e980226"
      },
      "execution_count": 82,
      "outputs": [
        {
          "output_type": "execute_result",
          "data": {
            "text/plain": [
              "<matplotlib.legend.Legend at 0x7f3624431810>"
            ]
          },
          "metadata": {},
          "execution_count": 82
        },
        {
          "output_type": "display_data",
          "data": {
            "text/plain": [
              "<Figure size 432x288 with 1 Axes>"
            ],
            "image/png": "[encoded data removed]"
          },
          "metadata": {
            "needs_background": "light"
          }
        }
      ]
    },
    {
      "cell_type": "markdown",
      "source": [
        "##**Config 1**"
      ],
      "metadata": {
        "id": "xiWWVCscVOCk"
      }
    },
    {
      "cell_type": "markdown",
      "source": [
        "##Initiate sequential object "
      ],
      "metadata": {
        "id": "NgNLKPDW7q5U"
      }
    },
    {
      "cell_type": "code",
      "source": [
        "model = tf.keras.Sequential()"
      ],
      "metadata": {
        "id": "aBhD-psNHcCW"
      },
      "execution_count": 40,
      "outputs": []
    },
    {
      "cell_type": "markdown",
      "source": [
        "##Add Layers"
      ],
      "metadata": {
        "id": "kupxv4uS7498"
      }
    },
    {
      "cell_type": "code",
      "source": [
        "model.add(\n",
        "    tf.keras.layers.Dense(1),\n",
        "    )"
      ],
      "metadata": {
        "id": "7QoU1F6C77C9"
      },
      "execution_count": 41,
      "outputs": []
    },
    {
      "cell_type": "markdown",
      "source": [
        "##Compile"
      ],
      "metadata": {
        "id": "aib6uI0J7-3W"
      }
    },
    {
      "cell_type": "code",
      "source": [
        "model.compile(optimizer = 'SGD', loss = 'mae', metrics = 'mae')"
      ],
      "metadata": {
        "id": "zy_ex-ia8ArJ"
      },
      "execution_count": 65,
      "outputs": []
    },
    {
      "cell_type": "markdown",
      "source": [
        "##Fit"
      ],
      "metadata": {
        "id": "dV35NdEJ8D_R"
      }
    },
    {
      "cell_type": "code",
      "source": [
        "history = model.fit(X_train, y_train, epochs=1, batch_size=100)\n",
        "history.history"
      ],
      "metadata": {
        "colab": {
          "base_uri": "https://localhost:8080/"
        },
        "id": "HkBUqN_78HHZ",
        "outputId": "2e1d4c72-f93e-4385-fe84-8c8a145010e4"
      },
      "execution_count": 93,
      "outputs": [
        {
          "output_type": "stream",
          "name": "stdout",
          "text": [
            "5/5 [==============================] - 0s 4ms/step - loss: 1524.2594 - mae: 1524.2594\n"
          ]
        },
        {
          "output_type": "execute_result",
          "data": {
            "text/plain": [
              "{'loss': [1524.2593994140625], 'mae': [1524.2593994140625]}"
            ]
          },
          "metadata": {},
          "execution_count": 93
        }
      ]
    },
    {
      "cell_type": "markdown",
      "source": [
        "##Predict"
      ],
      "metadata": {
        "id": "UlKmZUz7Qw9I"
      }
    },
    {
      "cell_type": "code",
      "source": [
        "test_data_prediction = model.predict(X_test)\n",
        "plt.scatter(X_test['TAX'],test_data_prediction, label = 'predict')\n",
        "plt.scatter(X_test['TAX'],y_test, label = 'real')\n",
        "plt.legend()\n",
        "plt.show()"
      ],
      "metadata": {
        "colab": {
          "base_uri": "https://localhost:8080/",
          "height": 265
        },
        "id": "OeAx2fSUPjR3",
        "outputId": "379b3b36-ecd1-4a54-a016-b91c79e17844"
      },
      "execution_count": 101,
      "outputs": [
        {
          "output_type": "display_data",
          "data": {
            "text/plain": [
              "<Figure size 432x288 with 1 Axes>"
            ],
            "image/png": "[encoded data removed]"
          },
          "metadata": {
            "needs_background": "light"
          }
        }
      ]
    },
    {
      "cell_type": "markdown",
      "source": [
        "##Evaluate"
      ],
      "metadata": {
        "id": "ZNzoAa-bUiK5"
      }
    },
    {
      "cell_type": "code",
      "source": [
        "model.evaluate(X_test, y_test)"
      ],
      "metadata": {
        "colab": {
          "base_uri": "https://localhost:8080/"
        },
        "id": "je1fU5i_8YuC",
        "outputId": "0b9c39fd-ba48-4f6f-c2c9-ecbd03db61b6"
      },
      "execution_count": 67,
      "outputs": [
        {
          "output_type": "stream",
          "name": "stdout",
          "text": [
            "4/4 [==============================] - 0s 3ms/step - loss: 2020.8700 - mae: 2020.8700\n"
          ]
        },
        {
          "output_type": "execute_result",
          "data": {
            "text/plain": [
              "[2020.8699951171875, 2020.8699951171875]"
            ]
          },
          "metadata": {},
          "execution_count": 67
        }
      ]
    },
    {
      "cell_type": "markdown",
      "source": [
        "##Learning Curve(Loss Curve)\n",
        "Since there is only one epoch, there isn't any learning curve"
      ],
      "metadata": {
        "id": "MbkT1YOOUls4"
      }
    },
    {
      "cell_type": "code",
      "source": [
        "pd.DataFrame(history.history).plot()"
      ],
      "metadata": {
        "colab": {
          "base_uri": "https://localhost:8080/",
          "height": 282
        },
        "id": "C9BoSWX9B7Ph",
        "outputId": "b5377ae9-da7d-4cf5-b705-31346fd04ec6"
      },
      "execution_count": 105,
      "outputs": [
        {
          "output_type": "execute_result",
          "data": {
            "text/plain": [
              "<matplotlib.axes._subplots.AxesSubplot at 0x7f3623bfded0>"
            ]
          },
          "metadata": {},
          "execution_count": 105
        },
        {
          "output_type": "display_data",
          "data": {
            "text/plain": [
              "<Figure size 432x288 with 1 Axes>"
            ],
            "image/png": "[encoded data removed]"
          },
          "metadata": {
            "needs_background": "light"
          }
        }
      ]
    },
    {
      "cell_type": "markdown",
      "source": [
        "##**Config 2**"
      ],
      "metadata": {
        "id": "uWLQ9JcmVauh"
      }
    },
    {
      "cell_type": "code",
      "source": [
        "model_2 = tf.keras.Sequential()\n",
        "model_2.add(\n",
        "    tf.keras.layers.Dense(1)\n",
        ")\n",
        "model_2.compile(optimizer='SGD', loss='mae', metrics='mae')\n",
        "history=model_2.fit(X_train, y_train, epochs=100)\n",
        "model_2.evaluate(X_test, y_test)\n",
        "pd.DataFrame(history.history).plot()"
      ],
      "metadata": {
        "colab": {
          "base_uri": "https://localhost:8080/",
          "height": 1000
        },
        "id": "H7p9XdQvVmJD",
        "outputId": "43954468-c40b-4395-8582-622a8c74ce62"
      },
      "execution_count": 15,
      "outputs": [
        {
          "output_type": "stream",
          "name": "stdout",
          "text": [
            "Epoch 1/100\n",
            "13/13 [==============================] - 0s 1ms/step - loss: 1408.6749 - mae: 1408.6749\n",
            "Epoch 2/100\n",
            "13/13 [==============================] - 0s 1ms/step - loss: 1529.6075 - mae: 1529.6075\n",
            "Epoch 3/100\n",
            "13/13 [==============================] - 0s 1ms/step - loss: 1470.3922 - mae: 1470.3922\n",
            "Epoch 4/100\n",
            "13/13 [==============================] - 0s 1ms/step - loss: 1532.7423 - mae: 1532.7423\n",
            "Epoch 5/100\n",
            "13/13 [==============================] - 0s 1ms/step - loss: 1462.0198 - mae: 1462.0198\n",
            "Epoch 6/100\n",
            "13/13 [==============================] - 0s 1ms/step - loss: 1533.6536 - mae: 1533.6536\n",
            "Epoch 7/100\n",
            "13/13 [==============================] - 0s 1ms/step - loss: 1437.3507 - mae: 1437.3507\n",
            "Epoch 8/100\n",
            "13/13 [==============================] - 0s 1ms/step - loss: 1538.1274 - mae: 1538.1274\n",
            "Epoch 9/100\n",
            "13/13 [==============================] - 0s 1ms/step - loss: 1459.1243 - mae: 1459.1243\n",
            "Epoch 10/100\n",
            "13/13 [==============================] - 0s 1ms/step - loss: 1555.4369 - mae: 1555.4369\n",
            "Epoch 11/100\n",
            "13/13 [==============================] - 0s 1ms/step - loss: 1462.2786 - mae: 1462.2786\n",
            "Epoch 12/100\n",
            "13/13 [==============================] - 0s 2ms/step - loss: 1536.3231 - mae: 1536.3231\n",
            "Epoch 13/100\n",
            "13/13 [==============================] - 0s 1ms/step - loss: 1503.8827 - mae: 1503.8827\n",
            "Epoch 14/100\n",
            "13/13 [==============================] - 0s 1ms/step - loss: 1515.0017 - mae: 1515.0017\n",
            "Epoch 15/100\n",
            "13/13 [==============================] - 0s 1ms/step - loss: 1441.1707 - mae: 1441.1707\n",
            "Epoch 16/100\n",
            "13/13 [==============================] - 0s 1ms/step - loss: 1469.4867 - mae: 1469.4867\n",
            "Epoch 17/100\n",
            "13/13 [==============================] - 0s 1ms/step - loss: 1499.3685 - mae: 1499.3685\n",
            "Epoch 18/100\n",
            "13/13 [==============================] - 0s 1ms/step - loss: 1529.9969 - mae: 1529.9969\n",
            "Epoch 19/100\n",
            "13/13 [==============================] - 0s 1ms/step - loss: 1495.2836 - mae: 1495.2836\n",
            "Epoch 20/100\n",
            "13/13 [==============================] - 0s 1ms/step - loss: 1525.0403 - mae: 1525.0403\n",
            "Epoch 21/100\n",
            "13/13 [==============================] - 0s 1ms/step - loss: 1471.2653 - mae: 1471.2653\n",
            "Epoch 22/100\n",
            "13/13 [==============================] - 0s 1ms/step - loss: 1532.7402 - mae: 1532.7402\n",
            "Epoch 23/100\n",
            "13/13 [==============================] - 0s 1ms/step - loss: 1467.1313 - mae: 1467.1313\n",
            "Epoch 24/100\n",
            "13/13 [==============================] - 0s 1ms/step - loss: 1493.9385 - mae: 1493.9385\n",
            "Epoch 25/100\n",
            "13/13 [==============================] - 0s 1ms/step - loss: 1503.0742 - mae: 1503.0742\n",
            "Epoch 26/100\n",
            "13/13 [==============================] - 0s 3ms/step - loss: 1506.3395 - mae: 1506.3395\n",
            "Epoch 27/100\n",
            "13/13 [==============================] - 0s 1ms/step - loss: 1506.1937 - mae: 1506.1937\n",
            "Epoch 28/100\n",
            "13/13 [==============================] - 0s 2ms/step - loss: 1499.7070 - mae: 1499.7070\n",
            "Epoch 29/100\n",
            "13/13 [==============================] - 0s 1ms/step - loss: 1511.7537 - mae: 1511.7537\n",
            "Epoch 30/100\n",
            "13/13 [==============================] - 0s 1ms/step - loss: 1517.6146 - mae: 1517.6146\n",
            "Epoch 31/100\n",
            "13/13 [==============================] - 0s 1ms/step - loss: 1515.9059 - mae: 1515.9059\n",
            "Epoch 32/100\n",
            "13/13 [==============================] - 0s 1ms/step - loss: 1510.6620 - mae: 1510.6620\n",
            "Epoch 33/100\n",
            "13/13 [==============================] - 0s 1ms/step - loss: 1473.4836 - mae: 1473.4836\n",
            "Epoch 34/100\n",
            "13/13 [==============================] - 0s 2ms/step - loss: 1498.1251 - mae: 1498.1251\n",
            "Epoch 35/100\n",
            "13/13 [==============================] - 0s 1ms/step - loss: 1500.7314 - mae: 1500.7314\n",
            "Epoch 36/100\n",
            "13/13 [==============================] - 0s 1ms/step - loss: 1447.9792 - mae: 1447.9792\n",
            "Epoch 37/100\n",
            "13/13 [==============================] - 0s 1ms/step - loss: 1498.0474 - mae: 1498.0474\n",
            "Epoch 38/100\n",
            "13/13 [==============================] - 0s 1ms/step - loss: 1546.0043 - mae: 1546.0043\n",
            "Epoch 39/100\n",
            "13/13 [==============================] - 0s 1ms/step - loss: 1481.1089 - mae: 1481.1089\n",
            "Epoch 40/100\n",
            "13/13 [==============================] - 0s 1ms/step - loss: 1528.5220 - mae: 1528.5220\n",
            "Epoch 41/100\n",
            "13/13 [==============================] - 0s 1ms/step - loss: 1452.5392 - mae: 1452.5392\n",
            "Epoch 42/100\n",
            "13/13 [==============================] - 0s 1ms/step - loss: 1460.6929 - mae: 1460.6929\n",
            "Epoch 43/100\n",
            "13/13 [==============================] - 0s 2ms/step - loss: 1480.5403 - mae: 1480.5403\n",
            "Epoch 44/100\n",
            "13/13 [==============================] - 0s 1ms/step - loss: 1466.7163 - mae: 1466.7163\n",
            "Epoch 45/100\n",
            "13/13 [==============================] - 0s 1ms/step - loss: 1520.3459 - mae: 1520.3459\n",
            "Epoch 46/100\n",
            "13/13 [==============================] - 0s 1ms/step - loss: 1504.1064 - mae: 1504.1064\n",
            "Epoch 47/100\n",
            "13/13 [==============================] - 0s 1ms/step - loss: 1477.2795 - mae: 1477.2795\n",
            "Epoch 48/100\n",
            "13/13 [==============================] - 0s 2ms/step - loss: 1338.4030 - mae: 1338.4030\n",
            "Epoch 49/100\n",
            "13/13 [==============================] - 0s 1ms/step - loss: 1476.2708 - mae: 1476.2708\n",
            "Epoch 50/100\n",
            "13/13 [==============================] - 0s 2ms/step - loss: 1456.9492 - mae: 1456.9492\n",
            "Epoch 51/100\n",
            "13/13 [==============================] - 0s 1ms/step - loss: 1482.7646 - mae: 1482.7646\n",
            "Epoch 52/100\n",
            "13/13 [==============================] - 0s 2ms/step - loss: 1549.6832 - mae: 1549.6832\n",
            "Epoch 53/100\n",
            "13/13 [==============================] - 0s 1ms/step - loss: 1470.7147 - mae: 1470.7147\n",
            "Epoch 54/100\n",
            "13/13 [==============================] - 0s 2ms/step - loss: 1489.2205 - mae: 1489.2205\n",
            "Epoch 55/100\n",
            "13/13 [==============================] - 0s 2ms/step - loss: 1500.5491 - mae: 1500.5491\n",
            "Epoch 56/100\n",
            "13/13 [==============================] - 0s 1ms/step - loss: 1471.9640 - mae: 1471.9640\n",
            "Epoch 57/100\n",
            "13/13 [==============================] - 0s 1ms/step - loss: 1514.6217 - mae: 1514.6217\n",
            "Epoch 58/100\n",
            "13/13 [==============================] - 0s 1ms/step - loss: 1524.9595 - mae: 1524.9595\n",
            "Epoch 59/100\n",
            "13/13 [==============================] - 0s 2ms/step - loss: 1497.9185 - mae: 1497.9185\n",
            "Epoch 60/100\n",
            "13/13 [==============================] - 0s 1ms/step - loss: 1492.2051 - mae: 1492.2051\n",
            "Epoch 61/100\n",
            "13/13 [==============================] - 0s 1ms/step - loss: 1501.8040 - mae: 1501.8040\n",
            "Epoch 62/100\n",
            "13/13 [==============================] - 0s 1ms/step - loss: 1521.1418 - mae: 1521.1418\n",
            "Epoch 63/100\n",
            "13/13 [==============================] - 0s 1ms/step - loss: 1446.3291 - mae: 1446.3291\n",
            "Epoch 64/100\n",
            "13/13 [==============================] - 0s 2ms/step - loss: 1546.7418 - mae: 1546.7418\n",
            "Epoch 65/100\n",
            "13/13 [==============================] - 0s 2ms/step - loss: 1454.7206 - mae: 1454.7206\n",
            "Epoch 66/100\n",
            "13/13 [==============================] - 0s 2ms/step - loss: 1518.8042 - mae: 1518.8042\n",
            "Epoch 67/100\n",
            "13/13 [==============================] - 0s 1ms/step - loss: 1378.3177 - mae: 1378.3177\n",
            "Epoch 68/100\n",
            "13/13 [==============================] - 0s 1ms/step - loss: 1436.7423 - mae: 1436.7423\n",
            "Epoch 69/100\n",
            "13/13 [==============================] - 0s 1ms/step - loss: 1493.8350 - mae: 1493.8350\n",
            "Epoch 70/100\n",
            "13/13 [==============================] - 0s 1ms/step - loss: 1501.6738 - mae: 1501.6738\n",
            "Epoch 71/100\n",
            "13/13 [==============================] - 0s 1ms/step - loss: 1507.0011 - mae: 1507.0011\n",
            "Epoch 72/100\n",
            "13/13 [==============================] - 0s 1ms/step - loss: 1496.2279 - mae: 1496.2279\n",
            "Epoch 73/100\n",
            "13/13 [==============================] - 0s 2ms/step - loss: 1513.9497 - mae: 1513.9497\n",
            "Epoch 74/100\n",
            "13/13 [==============================] - 0s 1ms/step - loss: 1458.3491 - mae: 1458.3491\n",
            "Epoch 75/100\n",
            "13/13 [==============================] - 0s 1ms/step - loss: 1522.5701 - mae: 1522.5701\n",
            "Epoch 76/100\n",
            "13/13 [==============================] - 0s 1ms/step - loss: 1451.8046 - mae: 1451.8046\n",
            "Epoch 77/100\n",
            "13/13 [==============================] - 0s 1ms/step - loss: 1537.6105 - mae: 1537.6105\n",
            "Epoch 78/100\n",
            "13/13 [==============================] - 0s 2ms/step - loss: 1497.5215 - mae: 1497.5215\n",
            "Epoch 79/100\n",
            "13/13 [==============================] - 0s 1ms/step - loss: 1503.7997 - mae: 1503.7997\n",
            "Epoch 80/100\n",
            "13/13 [==============================] - 0s 2ms/step - loss: 1509.1179 - mae: 1509.1179\n",
            "Epoch 81/100\n",
            "13/13 [==============================] - 0s 2ms/step - loss: 1488.4999 - mae: 1488.4999\n",
            "Epoch 82/100\n",
            "13/13 [==============================] - 0s 2ms/step - loss: 1523.2169 - mae: 1523.2169\n",
            "Epoch 83/100\n",
            "13/13 [==============================] - 0s 2ms/step - loss: 1458.0219 - mae: 1458.0219\n",
            "Epoch 84/100\n",
            "13/13 [==============================] - 0s 1ms/step - loss: 1500.7771 - mae: 1500.7771\n",
            "Epoch 85/100\n",
            "13/13 [==============================] - 0s 1ms/step - loss: 1511.6113 - mae: 1511.6113\n",
            "Epoch 86/100\n",
            "13/13 [==============================] - 0s 2ms/step - loss: 1490.6219 - mae: 1490.6219\n",
            "Epoch 87/100\n",
            "13/13 [==============================] - 0s 2ms/step - loss: 1461.4536 - mae: 1461.4536\n",
            "Epoch 88/100\n",
            "13/13 [==============================] - 0s 2ms/step - loss: 1495.6163 - mae: 1495.6163\n",
            "Epoch 89/100\n",
            "13/13 [==============================] - 0s 2ms/step - loss: 1498.4211 - mae: 1498.4211\n",
            "Epoch 90/100\n",
            "13/13 [==============================] - 0s 2ms/step - loss: 1500.3431 - mae: 1500.3433\n",
            "Epoch 91/100\n",
            "13/13 [==============================] - 0s 2ms/step - loss: 1546.1399 - mae: 1546.1399\n",
            "Epoch 92/100\n",
            "13/13 [==============================] - 0s 1ms/step - loss: 1485.5450 - mae: 1485.5450\n",
            "Epoch 93/100\n",
            "13/13 [==============================] - 0s 2ms/step - loss: 1528.4426 - mae: 1528.4426\n",
            "Epoch 94/100\n",
            "13/13 [==============================] - 0s 2ms/step - loss: 1487.8470 - mae: 1487.8470\n",
            "Epoch 95/100\n",
            "13/13 [==============================] - 0s 1ms/step - loss: 1526.5996 - mae: 1526.5996\n",
            "Epoch 96/100\n",
            "13/13 [==============================] - 0s 1ms/step - loss: 1418.0968 - mae: 1418.0968\n",
            "Epoch 97/100\n",
            "13/13 [==============================] - 0s 1ms/step - loss: 1529.1962 - mae: 1529.1962\n",
            "Epoch 98/100\n",
            "13/13 [==============================] - 0s 2ms/step - loss: 1475.8246 - mae: 1475.8246\n",
            "Epoch 99/100\n",
            "13/13 [==============================] - 0s 2ms/step - loss: 1516.8840 - mae: 1516.8840\n",
            "Epoch 100/100\n",
            "13/13 [==============================] - 0s 1ms/step - loss: 1471.8696 - mae: 1471.8696\n",
            "4/4 [==============================] - 0s 2ms/step - loss: 1115.0663 - mae: 1115.0663\n"
          ]
        },
        {
          "output_type": "execute_result",
          "data": {
            "text/plain": [
              "<matplotlib.axes._subplots.AxesSubplot at 0x7f2a306a4310>"
            ]
          },
          "metadata": {},
          "execution_count": 15
        },
        {
          "output_type": "display_data",
          "data": {
            "text/plain": [
              "<Figure size 432x288 with 1 Axes>"
            ],
            "image/png": "[encoded data removed]"
          },
          "metadata": {
            "needs_background": "light"
          }
        }
      ]
    },
    {
      "cell_type": "markdown",
      "source": [
        "###Config 2 summary"
      ],
      "metadata": {
        "id": "8UySQYL2cEqi"
      }
    },
    {
      "cell_type": "code",
      "source": [
        "model_2.summary()"
      ],
      "metadata": {
        "colab": {
          "base_uri": "https://localhost:8080/"
        },
        "id": "iJhGjbbeW5eN",
        "outputId": "f142f564-6d81-4dda-c42a-f182e54ddec4"
      },
      "execution_count": 7,
      "outputs": [
        {
          "output_type": "stream",
          "name": "stdout",
          "text": [
            "Model: \"sequential_1\"\n",
            "_________________________________________________________________\n",
            " Layer (type)                Output Shape              Param #   \n",
            "=================================================================\n",
            " dense_3 (Dense)             (None, 1)                 14        \n",
            "                                                                 \n",
            "=================================================================\n",
            "Total params: 14\n",
            "Trainable params: 14\n",
            "Non-trainable params: 0\n",
            "_________________________________________________________________\n"
          ]
        }
      ]
    },
    {
      "cell_type": "code",
      "source": [
        "model_3 = tf.keras.Sequential()\n",
        "model_3.add(\n",
        "    tf.keras.layers.Dense(1, activation='relu')\n",
        ")\n",
        "model_3.compile(optimizer='SGD', loss='mae', metrics='mae')\n",
        "history=model_3.fit(X_train, y_train, epochs=100)\n",
        "pd.DataFrame(history.history).plot()"
      ],
      "metadata": {
        "colab": {
          "base_uri": "https://localhost:8080/",
          "height": 1000
        },
        "id": "HzKTP569ZGiH",
        "outputId": "e28340df-8818-4343-fe85-6e975df5a0b2"
      },
      "execution_count": 9,
      "outputs": [
        {
          "output_type": "stream",
          "name": "stdout",
          "text": [
            "Epoch 1/100\n",
            "13/13 [==============================] - 0s 3ms/step - loss: 25.5626 - mae: 25.5626\n",
            "Epoch 2/100\n",
            "13/13 [==============================] - 0s 2ms/step - loss: 22.7931 - mae: 22.7931\n",
            "Epoch 3/100\n",
            "13/13 [==============================] - 0s 2ms/step - loss: 22.7931 - mae: 22.7931\n",
            "Epoch 4/100\n",
            "13/13 [==============================] - 0s 2ms/step - loss: 22.7931 - mae: 22.7931\n",
            "Epoch 5/100\n",
            "13/13 [==============================] - 0s 2ms/step - loss: 22.7931 - mae: 22.7931\n",
            "Epoch 6/100\n",
            "13/13 [==============================] - 0s 2ms/step - loss: 22.7931 - mae: 22.7931\n",
            "Epoch 7/100\n",
            "13/13 [==============================] - 0s 2ms/step - loss: 22.7931 - mae: 22.7931\n",
            "Epoch 8/100\n",
            "13/13 [==============================] - 0s 2ms/step - loss: 22.7931 - mae: 22.7931\n",
            "Epoch 9/100\n",
            "13/13 [==============================] - 0s 2ms/step - loss: 22.7931 - mae: 22.7931\n",
            "Epoch 10/100\n",
            "13/13 [==============================] - 0s 2ms/step - loss: 22.7931 - mae: 22.7931\n",
            "Epoch 11/100\n",
            "13/13 [==============================] - 0s 2ms/step - loss: 22.7931 - mae: 22.7931\n",
            "Epoch 12/100\n",
            "13/13 [==============================] - 0s 4ms/step - loss: 22.7931 - mae: 22.7931\n",
            "Epoch 13/100\n",
            "13/13 [==============================] - 0s 4ms/step - loss: 22.7931 - mae: 22.7931\n",
            "Epoch 14/100\n",
            "13/13 [==============================] - 0s 3ms/step - loss: 22.7931 - mae: 22.7931\n",
            "Epoch 15/100\n",
            "13/13 [==============================] - 0s 3ms/step - loss: 22.7931 - mae: 22.7931\n",
            "Epoch 16/100\n",
            "13/13 [==============================] - 0s 3ms/step - loss: 22.7931 - mae: 22.7931\n",
            "Epoch 17/100\n",
            "13/13 [==============================] - 0s 3ms/step - loss: 22.7931 - mae: 22.7931\n",
            "Epoch 18/100\n",
            "13/13 [==============================] - 0s 2ms/step - loss: 22.7931 - mae: 22.7931\n",
            "Epoch 19/100\n",
            "13/13 [==============================] - 0s 3ms/step - loss: 22.7931 - mae: 22.7931\n",
            "Epoch 20/100\n",
            "13/13 [==============================] - 0s 3ms/step - loss: 22.7931 - mae: 22.7931\n",
            "Epoch 21/100\n",
            "13/13 [==============================] - 0s 2ms/step - loss: 22.7931 - mae: 22.7931\n",
            "Epoch 22/100\n",
            "13/13 [==============================] - 0s 2ms/step - loss: 22.7931 - mae: 22.7931\n",
            "Epoch 23/100\n",
            "13/13 [==============================] - 0s 3ms/step - loss: 22.7931 - mae: 22.7931\n",
            "Epoch 24/100\n",
            "13/13 [==============================] - 0s 3ms/step - loss: 22.7931 - mae: 22.7931\n",
            "Epoch 25/100\n",
            "13/13 [==============================] - 0s 2ms/step - loss: 22.7931 - mae: 22.7931\n",
            "Epoch 26/100\n",
            "13/13 [==============================] - 0s 2ms/step - loss: 22.7931 - mae: 22.7931\n",
            "Epoch 27/100\n",
            "13/13 [==============================] - 0s 3ms/step - loss: 22.7931 - mae: 22.7931\n",
            "Epoch 28/100\n",
            "13/13 [==============================] - 0s 2ms/step - loss: 22.7931 - mae: 22.7931\n",
            "Epoch 29/100\n",
            "13/13 [==============================] - 0s 2ms/step - loss: 22.7931 - mae: 22.7931\n",
            "Epoch 30/100\n",
            "13/13 [==============================] - 0s 2ms/step - loss: 22.7931 - mae: 22.7931\n",
            "Epoch 31/100\n",
            "13/13 [==============================] - 0s 2ms/step - loss: 22.7931 - mae: 22.7931\n",
            "Epoch 32/100\n",
            "13/13 [==============================] - 0s 2ms/step - loss: 22.7931 - mae: 22.7931\n",
            "Epoch 33/100\n",
            "13/13 [==============================] - 0s 2ms/step - loss: 22.7931 - mae: 22.7931\n",
            "Epoch 34/100\n",
            "13/13 [==============================] - 0s 2ms/step - loss: 22.7931 - mae: 22.7931\n",
            "Epoch 35/100\n",
            "13/13 [==============================] - 0s 2ms/step - loss: 22.7931 - mae: 22.7931\n",
            "Epoch 36/100\n",
            "13/13 [==============================] - 0s 2ms/step - loss: 22.7931 - mae: 22.7931\n",
            "Epoch 37/100\n",
            "13/13 [==============================] - 0s 3ms/step - loss: 22.7931 - mae: 22.7931\n",
            "Epoch 38/100\n",
            "13/13 [==============================] - 0s 2ms/step - loss: 22.7931 - mae: 22.7931\n",
            "Epoch 39/100\n",
            "13/13 [==============================] - 0s 3ms/step - loss: 22.7931 - mae: 22.7931\n",
            "Epoch 40/100\n",
            "13/13 [==============================] - 0s 2ms/step - loss: 22.7931 - mae: 22.7931\n",
            "Epoch 41/100\n",
            "13/13 [==============================] - 0s 3ms/step - loss: 22.7931 - mae: 22.7931\n",
            "Epoch 42/100\n",
            "13/13 [==============================] - 0s 3ms/step - loss: 22.7931 - mae: 22.7931\n",
            "Epoch 43/100\n",
            "13/13 [==============================] - 0s 2ms/step - loss: 22.7931 - mae: 22.7931\n",
            "Epoch 44/100\n",
            "13/13 [==============================] - 0s 2ms/step - loss: 22.7931 - mae: 22.7931\n",
            "Epoch 45/100\n",
            "13/13 [==============================] - 0s 2ms/step - loss: 22.7931 - mae: 22.7931\n",
            "Epoch 46/100\n",
            "13/13 [==============================] - 0s 2ms/step - loss: 22.7931 - mae: 22.7931\n",
            "Epoch 47/100\n",
            "13/13 [==============================] - 0s 3ms/step - loss: 22.7931 - mae: 22.7931\n",
            "Epoch 48/100\n",
            "13/13 [==============================] - 0s 2ms/step - loss: 22.7931 - mae: 22.7931\n",
            "Epoch 49/100\n",
            "13/13 [==============================] - 0s 2ms/step - loss: 22.7931 - mae: 22.7931\n",
            "Epoch 50/100\n",
            "13/13 [==============================] - 0s 2ms/step - loss: 22.7931 - mae: 22.7931\n",
            "Epoch 51/100\n",
            "13/13 [==============================] - 0s 2ms/step - loss: 22.7931 - mae: 22.7931\n",
            "Epoch 52/100\n",
            "13/13 [==============================] - 0s 2ms/step - loss: 22.7931 - mae: 22.7931\n",
            "Epoch 53/100\n",
            "13/13 [==============================] - 0s 3ms/step - loss: 22.7931 - mae: 22.7931\n",
            "Epoch 54/100\n",
            "13/13 [==============================] - 0s 2ms/step - loss: 22.7931 - mae: 22.7931\n",
            "Epoch 55/100\n",
            "13/13 [==============================] - 0s 2ms/step - loss: 22.7931 - mae: 22.7931\n",
            "Epoch 56/100\n",
            "13/13 [==============================] - 0s 2ms/step - loss: 22.7931 - mae: 22.7931\n",
            "Epoch 57/100\n",
            "13/13 [==============================] - 0s 2ms/step - loss: 22.7931 - mae: 22.7931\n",
            "Epoch 58/100\n",
            "13/13 [==============================] - 0s 2ms/step - loss: 22.7931 - mae: 22.7931\n",
            "Epoch 59/100\n",
            "13/13 [==============================] - 0s 2ms/step - loss: 22.7931 - mae: 22.7931\n",
            "Epoch 60/100\n",
            "13/13 [==============================] - 0s 2ms/step - loss: 22.7931 - mae: 22.7931\n",
            "Epoch 61/100\n",
            "13/13 [==============================] - 0s 2ms/step - loss: 22.7931 - mae: 22.7931\n",
            "Epoch 62/100\n",
            "13/13 [==============================] - 0s 2ms/step - loss: 22.7931 - mae: 22.7931\n",
            "Epoch 63/100\n",
            "13/13 [==============================] - 0s 2ms/step - loss: 22.7931 - mae: 22.7931\n",
            "Epoch 64/100\n",
            "13/13 [==============================] - 0s 2ms/step - loss: 22.7931 - mae: 22.7931\n",
            "Epoch 65/100\n",
            "13/13 [==============================] - 0s 2ms/step - loss: 22.7931 - mae: 22.7931\n",
            "Epoch 66/100\n",
            "13/13 [==============================] - 0s 2ms/step - loss: 22.7931 - mae: 22.7931\n",
            "Epoch 67/100\n",
            "13/13 [==============================] - 0s 3ms/step - loss: 22.7931 - mae: 22.7931\n",
            "Epoch 68/100\n",
            "13/13 [==============================] - 0s 2ms/step - loss: 22.7931 - mae: 22.7931\n",
            "Epoch 69/100\n",
            "13/13 [==============================] - 0s 2ms/step - loss: 22.7931 - mae: 22.7931\n",
            "Epoch 70/100\n",
            "13/13 [==============================] - 0s 2ms/step - loss: 22.7931 - mae: 22.7931\n",
            "Epoch 71/100\n",
            "13/13 [==============================] - 0s 3ms/step - loss: 22.7931 - mae: 22.7931\n",
            "Epoch 72/100\n",
            "13/13 [==============================] - 0s 2ms/step - loss: 22.7931 - mae: 22.7931\n",
            "Epoch 73/100\n",
            "13/13 [==============================] - 0s 2ms/step - loss: 22.7931 - mae: 22.7931\n",
            "Epoch 74/100\n",
            "13/13 [==============================] - 0s 2ms/step - loss: 22.7931 - mae: 22.7931\n",
            "Epoch 75/100\n",
            "13/13 [==============================] - 0s 2ms/step - loss: 22.7931 - mae: 22.7931\n",
            "Epoch 76/100\n",
            "13/13 [==============================] - 0s 2ms/step - loss: 22.7931 - mae: 22.7931\n",
            "Epoch 77/100\n",
            "13/13 [==============================] - 0s 2ms/step - loss: 22.7931 - mae: 22.7931\n",
            "Epoch 78/100\n",
            "13/13 [==============================] - 0s 2ms/step - loss: 22.7931 - mae: 22.7931\n",
            "Epoch 79/100\n",
            "13/13 [==============================] - 0s 2ms/step - loss: 22.7931 - mae: 22.7931\n",
            "Epoch 80/100\n",
            "13/13 [==============================] - 0s 2ms/step - loss: 22.7931 - mae: 22.7931\n",
            "Epoch 81/100\n",
            "13/13 [==============================] - 0s 2ms/step - loss: 22.7931 - mae: 22.7931\n",
            "Epoch 82/100\n",
            "13/13 [==============================] - 0s 2ms/step - loss: 22.7931 - mae: 22.7931\n",
            "Epoch 83/100\n",
            "13/13 [==============================] - 0s 2ms/step - loss: 22.7931 - mae: 22.7931\n",
            "Epoch 84/100\n",
            "13/13 [==============================] - 0s 2ms/step - loss: 22.7931 - mae: 22.7931\n",
            "Epoch 85/100\n",
            "13/13 [==============================] - 0s 2ms/step - loss: 22.7931 - mae: 22.7931\n",
            "Epoch 86/100\n",
            "13/13 [==============================] - 0s 2ms/step - loss: 22.7931 - mae: 22.7931\n",
            "Epoch 87/100\n",
            "13/13 [==============================] - 0s 2ms/step - loss: 22.7931 - mae: 22.7931\n",
            "Epoch 88/100\n",
            "13/13 [==============================] - 0s 2ms/step - loss: 22.7931 - mae: 22.7931\n",
            "Epoch 89/100\n",
            "13/13 [==============================] - 0s 2ms/step - loss: 22.7931 - mae: 22.7931\n",
            "Epoch 90/100\n",
            "13/13 [==============================] - 0s 2ms/step - loss: 22.7931 - mae: 22.7931\n",
            "Epoch 91/100\n",
            "13/13 [==============================] - 0s 2ms/step - loss: 22.7931 - mae: 22.7931\n",
            "Epoch 92/100\n",
            "13/13 [==============================] - 0s 2ms/step - loss: 22.7931 - mae: 22.7931\n",
            "Epoch 93/100\n",
            "13/13 [==============================] - 0s 2ms/step - loss: 22.7931 - mae: 22.7931\n",
            "Epoch 94/100\n",
            "13/13 [==============================] - 0s 2ms/step - loss: 22.7931 - mae: 22.7931\n",
            "Epoch 95/100\n",
            "13/13 [==============================] - 0s 3ms/step - loss: 22.7931 - mae: 22.7931\n",
            "Epoch 96/100\n",
            "13/13 [==============================] - 0s 2ms/step - loss: 22.7931 - mae: 22.7931\n",
            "Epoch 97/100\n",
            "13/13 [==============================] - 0s 2ms/step - loss: 22.7931 - mae: 22.7931\n",
            "Epoch 98/100\n",
            "13/13 [==============================] - 0s 2ms/step - loss: 22.7931 - mae: 22.7931\n",
            "Epoch 99/100\n",
            "13/13 [==============================] - 0s 2ms/step - loss: 22.7931 - mae: 22.7931\n",
            "Epoch 100/100\n",
            "13/13 [==============================] - 0s 2ms/step - loss: 22.7931 - mae: 22.7931\n"
          ]
        },
        {
          "output_type": "execute_result",
          "data": {
            "text/plain": [
              "<matplotlib.axes._subplots.AxesSubplot at 0x7f2a319c6a10>"
            ]
          },
          "metadata": {},
          "execution_count": 9
        },
        {
          "output_type": "display_data",
          "data": {
            "text/plain": [
              "<Figure size 432x288 with 1 Axes>"
            ],
            "image/png": "[encoded data removed]"
          },
          "metadata": {
            "needs_background": "light"
          }
        }
      ]
    },
    {
      "cell_type": "code",
      "source": [
        "model_3.evaluate(X_test, y_test)"
      ],
      "metadata": {
        "colab": {
          "base_uri": "https://localhost:8080/"
        },
        "id": "9g4Hf1dtcmyN",
        "outputId": "c8ba090e-12bf-4f41-f506-3399fb45bb30"
      },
      "execution_count": 10,
      "outputs": [
        {
          "output_type": "stream",
          "name": "stdout",
          "text": [
            "4/4 [==============================] - 0s 2ms/step - loss: 21.5020 - mae: 21.5020\n"
          ]
        },
        {
          "output_type": "execute_result",
          "data": {
            "text/plain": [
              "[21.501962661743164, 21.501962661743164]"
            ]
          },
          "metadata": {},
          "execution_count": 10
        }
      ]
    },
    {
      "cell_type": "code",
      "source": [
        "model_4 = tf.keras.Sequential(\n",
        "    [\n",
        "      tf.keras.layers.Dense(10, activation='relu'),\n",
        "      tf.keras.layers.Dense(10, activation='relu'),\n",
        "      tf.keras.layers.Dense(1)\n",
        "    ]\n",
        ")\n",
        "\n",
        "model_4.compile(optimizer='Adam', loss='mae', metrics='mae')\n",
        "history=model_4.fit(X_train, y_train, epochs=100)\n",
        "pd.DataFrame(history.history).plot()"
      ],
      "metadata": {
        "colab": {
          "base_uri": "https://localhost:8080/",
          "height": 1000
        },
        "id": "ynhbKkIcdNC8",
        "outputId": "4f35a4f9-ee92-4560-dff4-3e1d0921201e"
      },
      "execution_count": 11,
      "outputs": [
        {
          "output_type": "stream",
          "name": "stdout",
          "text": [
            "Epoch 1/100\n",
            "13/13 [==============================] - 1s 3ms/step - loss: 26.4168 - mae: 26.4168\n",
            "Epoch 2/100\n",
            "13/13 [==============================] - 0s 2ms/step - loss: 20.8417 - mae: 20.8417\n",
            "Epoch 3/100\n",
            "13/13 [==============================] - 0s 3ms/step - loss: 16.5071 - mae: 16.5071\n",
            "Epoch 4/100\n",
            "13/13 [==============================] - 0s 2ms/step - loss: 12.7222 - mae: 12.7222\n",
            "Epoch 5/100\n",
            "13/13 [==============================] - 0s 2ms/step - loss: 10.4908 - mae: 10.4908\n",
            "Epoch 6/100\n",
            "13/13 [==============================] - 0s 4ms/step - loss: 9.3079 - mae: 9.3079\n",
            "Epoch 7/100\n",
            "13/13 [==============================] - 0s 2ms/step - loss: 8.3576 - mae: 8.3576\n",
            "Epoch 8/100\n",
            "13/13 [==============================] - 0s 2ms/step - loss: 7.8055 - mae: 7.8055\n",
            "Epoch 9/100\n",
            "13/13 [==============================] - 0s 2ms/step - loss: 7.5001 - mae: 7.5001\n",
            "Epoch 10/100\n",
            "13/13 [==============================] - 0s 3ms/step - loss: 7.2232 - mae: 7.2232\n",
            "Epoch 11/100\n",
            "13/13 [==============================] - 0s 3ms/step - loss: 7.0386 - mae: 7.0386\n",
            "Epoch 12/100\n",
            "13/13 [==============================] - 0s 2ms/step - loss: 6.8054 - mae: 6.8054\n",
            "Epoch 13/100\n",
            "13/13 [==============================] - 0s 2ms/step - loss: 6.6290 - mae: 6.6290\n",
            "Epoch 14/100\n",
            "13/13 [==============================] - 0s 4ms/step - loss: 6.4731 - mae: 6.4731\n",
            "Epoch 15/100\n",
            "13/13 [==============================] - 0s 3ms/step - loss: 6.3657 - mae: 6.3657\n",
            "Epoch 16/100\n",
            "13/13 [==============================] - 0s 2ms/step - loss: 6.3285 - mae: 6.3285\n",
            "Epoch 17/100\n",
            "13/13 [==============================] - 0s 2ms/step - loss: 6.1585 - mae: 6.1585\n",
            "Epoch 18/100\n",
            "13/13 [==============================] - 0s 2ms/step - loss: 6.0248 - mae: 6.0248\n",
            "Epoch 19/100\n",
            "13/13 [==============================] - 0s 3ms/step - loss: 5.8451 - mae: 5.8451\n",
            "Epoch 20/100\n",
            "13/13 [==============================] - 0s 3ms/step - loss: 5.7147 - mae: 5.7147\n",
            "Epoch 21/100\n",
            "13/13 [==============================] - 0s 3ms/step - loss: 5.6383 - mae: 5.6383\n",
            "Epoch 22/100\n",
            "13/13 [==============================] - 0s 3ms/step - loss: 5.5730 - mae: 5.5730\n",
            "Epoch 23/100\n",
            "13/13 [==============================] - 0s 3ms/step - loss: 5.4861 - mae: 5.4861\n",
            "Epoch 24/100\n",
            "13/13 [==============================] - 0s 3ms/step - loss: 5.4334 - mae: 5.4334\n",
            "Epoch 25/100\n",
            "13/13 [==============================] - 0s 4ms/step - loss: 5.3755 - mae: 5.3755\n",
            "Epoch 26/100\n",
            "13/13 [==============================] - 0s 2ms/step - loss: 5.3527 - mae: 5.3527\n",
            "Epoch 27/100\n",
            "13/13 [==============================] - 0s 2ms/step - loss: 5.2759 - mae: 5.2759\n",
            "Epoch 28/100\n",
            "13/13 [==============================] - 0s 3ms/step - loss: 5.1956 - mae: 5.1956\n",
            "Epoch 29/100\n",
            "13/13 [==============================] - 0s 3ms/step - loss: 5.1677 - mae: 5.1677\n",
            "Epoch 30/100\n",
            "13/13 [==============================] - 0s 3ms/step - loss: 5.1147 - mae: 5.1147\n",
            "Epoch 31/100\n",
            "13/13 [==============================] - 0s 4ms/step - loss: 5.2250 - mae: 5.2250\n",
            "Epoch 32/100\n",
            "13/13 [==============================] - 0s 2ms/step - loss: 5.0894 - mae: 5.0894\n",
            "Epoch 33/100\n",
            "13/13 [==============================] - 0s 2ms/step - loss: 5.0310 - mae: 5.0310\n",
            "Epoch 34/100\n",
            "13/13 [==============================] - 0s 3ms/step - loss: 5.0373 - mae: 5.0373\n",
            "Epoch 35/100\n",
            "13/13 [==============================] - 0s 3ms/step - loss: 5.0660 - mae: 5.0660\n",
            "Epoch 36/100\n",
            "13/13 [==============================] - 0s 3ms/step - loss: 4.9742 - mae: 4.9742\n",
            "Epoch 37/100\n",
            "13/13 [==============================] - 0s 2ms/step - loss: 4.9800 - mae: 4.9800\n",
            "Epoch 38/100\n",
            "13/13 [==============================] - 0s 3ms/step - loss: 4.8799 - mae: 4.8799\n",
            "Epoch 39/100\n",
            "13/13 [==============================] - 0s 2ms/step - loss: 4.9127 - mae: 4.9127\n",
            "Epoch 40/100\n",
            "13/13 [==============================] - 0s 2ms/step - loss: 4.8109 - mae: 4.8109\n",
            "Epoch 41/100\n",
            "13/13 [==============================] - 0s 2ms/step - loss: 4.8295 - mae: 4.8295\n",
            "Epoch 42/100\n",
            "13/13 [==============================] - 0s 2ms/step - loss: 4.9075 - mae: 4.9075\n",
            "Epoch 43/100\n",
            "13/13 [==============================] - 0s 4ms/step - loss: 4.8008 - mae: 4.8008\n",
            "Epoch 44/100\n",
            "13/13 [==============================] - 0s 4ms/step - loss: 4.7465 - mae: 4.7465\n",
            "Epoch 45/100\n",
            "13/13 [==============================] - 0s 4ms/step - loss: 4.7414 - mae: 4.7414\n",
            "Epoch 46/100\n",
            "13/13 [==============================] - 0s 3ms/step - loss: 4.7113 - mae: 4.7113\n",
            "Epoch 47/100\n",
            "13/13 [==============================] - 0s 4ms/step - loss: 4.7238 - mae: 4.7238\n",
            "Epoch 48/100\n",
            "13/13 [==============================] - 0s 3ms/step - loss: 4.6511 - mae: 4.6511\n",
            "Epoch 49/100\n",
            "13/13 [==============================] - 0s 2ms/step - loss: 4.6689 - mae: 4.6689\n",
            "Epoch 50/100\n",
            "13/13 [==============================] - 0s 3ms/step - loss: 4.6473 - mae: 4.6473\n",
            "Epoch 51/100\n",
            "13/13 [==============================] - 0s 3ms/step - loss: 4.7266 - mae: 4.7266\n",
            "Epoch 52/100\n",
            "13/13 [==============================] - 0s 2ms/step - loss: 4.7431 - mae: 4.7431\n",
            "Epoch 53/100\n",
            "13/13 [==============================] - 0s 2ms/step - loss: 4.6164 - mae: 4.6164\n",
            "Epoch 54/100\n",
            "13/13 [==============================] - 0s 2ms/step - loss: 4.5896 - mae: 4.5896\n",
            "Epoch 55/100\n",
            "13/13 [==============================] - 0s 2ms/step - loss: 4.6646 - mae: 4.6646\n",
            "Epoch 56/100\n",
            "13/13 [==============================] - 0s 2ms/step - loss: 4.5631 - mae: 4.5631\n",
            "Epoch 57/100\n",
            "13/13 [==============================] - 0s 3ms/step - loss: 4.5798 - mae: 4.5798\n",
            "Epoch 58/100\n",
            "13/13 [==============================] - 0s 2ms/step - loss: 4.6205 - mae: 4.6205\n",
            "Epoch 59/100\n",
            "13/13 [==============================] - 0s 5ms/step - loss: 4.5206 - mae: 4.5206\n",
            "Epoch 60/100\n",
            "13/13 [==============================] - 0s 3ms/step - loss: 4.6436 - mae: 4.6436\n",
            "Epoch 61/100\n",
            "13/13 [==============================] - 0s 3ms/step - loss: 4.5698 - mae: 4.5698\n",
            "Epoch 62/100\n",
            "13/13 [==============================] - 0s 3ms/step - loss: 4.4778 - mae: 4.4778\n",
            "Epoch 63/100\n",
            "13/13 [==============================] - 0s 3ms/step - loss: 4.4406 - mae: 4.4406\n",
            "Epoch 64/100\n",
            "13/13 [==============================] - 0s 2ms/step - loss: 4.4332 - mae: 4.4332\n",
            "Epoch 65/100\n",
            "13/13 [==============================] - 0s 2ms/step - loss: 4.5727 - mae: 4.5727\n",
            "Epoch 66/100\n",
            "13/13 [==============================] - 0s 2ms/step - loss: 4.5121 - mae: 4.5121\n",
            "Epoch 67/100\n",
            "13/13 [==============================] - 0s 3ms/step - loss: 4.5333 - mae: 4.5333\n",
            "Epoch 68/100\n",
            "13/13 [==============================] - 0s 3ms/step - loss: 4.3790 - mae: 4.3790\n",
            "Epoch 69/100\n",
            "13/13 [==============================] - 0s 3ms/step - loss: 4.6593 - mae: 4.6593\n",
            "Epoch 70/100\n",
            "13/13 [==============================] - 0s 4ms/step - loss: 4.3976 - mae: 4.3976\n",
            "Epoch 71/100\n",
            "13/13 [==============================] - 0s 3ms/step - loss: 4.3784 - mae: 4.3784\n",
            "Epoch 72/100\n",
            "13/13 [==============================] - 0s 2ms/step - loss: 4.3794 - mae: 4.3794\n",
            "Epoch 73/100\n",
            "13/13 [==============================] - 0s 3ms/step - loss: 4.4216 - mae: 4.4216\n",
            "Epoch 74/100\n",
            "13/13 [==============================] - 0s 2ms/step - loss: 4.3967 - mae: 4.3967\n",
            "Epoch 75/100\n",
            "13/13 [==============================] - 0s 3ms/step - loss: 4.4335 - mae: 4.4335\n",
            "Epoch 76/100\n",
            "13/13 [==============================] - 0s 3ms/step - loss: 4.3256 - mae: 4.3256\n",
            "Epoch 77/100\n",
            "13/13 [==============================] - 0s 3ms/step - loss: 4.3590 - mae: 4.3590\n",
            "Epoch 78/100\n",
            "13/13 [==============================] - 0s 3ms/step - loss: 4.3043 - mae: 4.3043\n",
            "Epoch 79/100\n",
            "13/13 [==============================] - 0s 3ms/step - loss: 4.3029 - mae: 4.3029\n",
            "Epoch 80/100\n",
            "13/13 [==============================] - 0s 3ms/step - loss: 4.3770 - mae: 4.3770\n",
            "Epoch 81/100\n",
            "13/13 [==============================] - 0s 3ms/step - loss: 4.4157 - mae: 4.4157\n",
            "Epoch 82/100\n",
            "13/13 [==============================] - 0s 2ms/step - loss: 4.4156 - mae: 4.4156\n",
            "Epoch 83/100\n",
            "13/13 [==============================] - 0s 3ms/step - loss: 4.3279 - mae: 4.3279\n",
            "Epoch 84/100\n",
            "13/13 [==============================] - 0s 3ms/step - loss: 4.3179 - mae: 4.3179\n",
            "Epoch 85/100\n",
            "13/13 [==============================] - 0s 3ms/step - loss: 4.2667 - mae: 4.2667\n",
            "Epoch 86/100\n",
            "13/13 [==============================] - 0s 2ms/step - loss: 4.2760 - mae: 4.2760\n",
            "Epoch 87/100\n",
            "13/13 [==============================] - 0s 4ms/step - loss: 4.3053 - mae: 4.3053\n",
            "Epoch 88/100\n",
            "13/13 [==============================] - 0s 3ms/step - loss: 4.3304 - mae: 4.3304\n",
            "Epoch 89/100\n",
            "13/13 [==============================] - 0s 3ms/step - loss: 4.2482 - mae: 4.2482\n",
            "Epoch 90/100\n",
            "13/13 [==============================] - 0s 2ms/step - loss: 4.2605 - mae: 4.2605\n",
            "Epoch 91/100\n",
            "13/13 [==============================] - 0s 2ms/step - loss: 4.2345 - mae: 4.2345\n",
            "Epoch 92/100\n",
            "13/13 [==============================] - 0s 2ms/step - loss: 4.2440 - mae: 4.2440\n",
            "Epoch 93/100\n",
            "13/13 [==============================] - 0s 2ms/step - loss: 4.2745 - mae: 4.2745\n",
            "Epoch 94/100\n",
            "13/13 [==============================] - 0s 3ms/step - loss: 4.2306 - mae: 4.2306\n",
            "Epoch 95/100\n",
            "13/13 [==============================] - 0s 2ms/step - loss: 4.2605 - mae: 4.2605\n",
            "Epoch 96/100\n",
            "13/13 [==============================] - 0s 3ms/step - loss: 4.2643 - mae: 4.2643\n",
            "Epoch 97/100\n",
            "13/13 [==============================] - 0s 3ms/step - loss: 4.2881 - mae: 4.2881\n",
            "Epoch 98/100\n",
            "13/13 [==============================] - 0s 3ms/step - loss: 4.2767 - mae: 4.2767\n",
            "Epoch 99/100\n",
            "13/13 [==============================] - 0s 2ms/step - loss: 4.3823 - mae: 4.3823\n",
            "Epoch 100/100\n",
            "13/13 [==============================] - 0s 2ms/step - loss: 4.3488 - mae: 4.3488\n"
          ]
        },
        {
          "output_type": "execute_result",
          "data": {
            "text/plain": [
              "<matplotlib.axes._subplots.AxesSubplot at 0x7f2a2dd97210>"
            ]
          },
          "metadata": {},
          "execution_count": 11
        },
        {
          "output_type": "display_data",
          "data": {
            "text/plain": [
              "<Figure size 432x288 with 1 Axes>"
            ],
            "image/png": "[encoded data removed]"
          },
          "metadata": {
            "needs_background": "light"
          }
        }
      ]
    },
    {
      "cell_type": "code",
      "source": [
        "test_data_prediction_m4 = model_4.predict(X_test)\n",
        "plt.scatter(y_test,test_data_prediction_m4, label = 'predict')"
      ],
      "metadata": {
        "colab": {
          "base_uri": "https://localhost:8080/",
          "height": 282
        },
        "id": "tFmYMTXodiis",
        "outputId": "9679ec73-c9c8-4f02-b55a-742f302c7c63"
      },
      "execution_count": 13,
      "outputs": [
        {
          "output_type": "execute_result",
          "data": {
            "text/plain": [
              "<matplotlib.collections.PathCollection at 0x7f2a2cf224d0>"
            ]
          },
          "metadata": {},
          "execution_count": 13
        },
        {
          "output_type": "display_data",
          "data": {
            "text/plain": [
              "<Figure size 432x288 with 1 Axes>"
            ],
            "image/png": "[encoded data removed]"
          },
          "metadata": {
            "needs_background": "light"
          }
        }
      ]
    },
    {
      "cell_type": "code",
      "source": [
        "model_4.evaluate(X_test, y_test)"
      ],
      "metadata": {
        "colab": {
          "base_uri": "https://localhost:8080/"
        },
        "id": "Jx6cU1qFkZ1Q",
        "outputId": "c392a8c9-0fd1-4ec0-c02d-23f88f216411"
      },
      "execution_count": 126,
      "outputs": [
        {
          "output_type": "stream",
          "name": "stdout",
          "text": [
            "4/4 [==============================] - 1s 3ms/step - loss: 35.6350 - mae: 35.6350\n"
          ]
        },
        {
          "output_type": "execute_result",
          "data": {
            "text/plain": [
              "[35.635013580322266, 35.635013580322266]"
            ]
          },
          "metadata": {},
          "execution_count": 126
        }
      ]
    },
    {
      "cell_type": "code",
      "source": [
        "final = pd.DataFrame(y_test)"
      ],
      "metadata": {
        "id": "sQoujV6zk9fe"
      },
      "execution_count": 129,
      "outputs": []
    },
    {
      "cell_type": "code",
      "source": [
        "final['predict'] = test_data_prediction_m4"
      ],
      "metadata": {
        "id": "8ObgHHDAlYZc"
      },
      "execution_count": 130,
      "outputs": []
    },
    {
      "cell_type": "code",
      "source": [
        "plt.plot(final)"
      ],
      "metadata": {
        "colab": {
          "base_uri": "https://localhost:8080/",
          "height": 300
        },
        "id": "53U-RM3Ylj62",
        "outputId": "0b26d7e1-74cf-4ca0-e3ea-67350188df7b"
      },
      "execution_count": 132,
      "outputs": [
        {
          "output_type": "execute_result",
          "data": {
            "text/plain": [
              "[<matplotlib.lines.Line2D at 0x7f3623870fd0>,\n",
              " <matplotlib.lines.Line2D at 0x7f3623870950>]"
            ]
          },
          "metadata": {},
          "execution_count": 132
        },
        {
          "output_type": "display_data",
          "data": {
            "text/plain": [
              "<Figure size 432x288 with 1 Axes>"
            ],
            "image/png": "[encoded data removed]"
          },
          "metadata": {
            "needs_background": "light"
          }
        }
      ]
    },
    {
      "cell_type": "code",
      "source": [
        "model_5 = tf.keras.Sequential()\n",
        "model_5.add(\n",
        "    tf.keras.layers.Dense(1, activation='relu')\n",
        ")\n",
        "model_5.compile(optimizer='Adam', loss='mae', metrics='mae')\n",
        "history=model_5.fit(X_train, y_train, epochs=100)\n",
        "pd.DataFrame(history.history).plot()"
      ],
      "metadata": {
        "colab": {
          "base_uri": "https://localhost:8080/",
          "height": 1000
        },
        "id": "l4X3Z2tIllKC",
        "outputId": "dc956e73-da0e-4cc1-a3cc-16a4ef173c2a"
      },
      "execution_count": 14,
      "outputs": [
        {
          "output_type": "stream",
          "name": "stdout",
          "text": [
            "Epoch 1/100\n",
            "13/13 [==============================] - 1s 2ms/step - loss: 15.4199 - mae: 15.4199\n",
            "Epoch 2/100\n",
            "13/13 [==============================] - 0s 2ms/step - loss: 12.8470 - mae: 12.8470\n",
            "Epoch 3/100\n",
            "13/13 [==============================] - 0s 2ms/step - loss: 12.0162 - mae: 12.0162\n",
            "Epoch 4/100\n",
            "13/13 [==============================] - 0s 2ms/step - loss: 11.8898 - mae: 11.8898\n",
            "Epoch 5/100\n",
            "13/13 [==============================] - 0s 2ms/step - loss: 11.6678 - mae: 11.6678\n",
            "Epoch 6/100\n",
            "13/13 [==============================] - 0s 2ms/step - loss: 11.5515 - mae: 11.5515\n",
            "Epoch 7/100\n",
            "13/13 [==============================] - 0s 2ms/step - loss: 11.3437 - mae: 11.3437\n",
            "Epoch 8/100\n",
            "13/13 [==============================] - 0s 2ms/step - loss: 11.0757 - mae: 11.0757\n",
            "Epoch 9/100\n",
            "13/13 [==============================] - 0s 3ms/step - loss: 10.6844 - mae: 10.6844\n",
            "Epoch 10/100\n",
            "13/13 [==============================] - 0s 2ms/step - loss: 10.1735 - mae: 10.1735\n",
            "Epoch 11/100\n",
            "13/13 [==============================] - 0s 2ms/step - loss: 9.6843 - mae: 9.6843\n",
            "Epoch 12/100\n",
            "13/13 [==============================] - 0s 2ms/step - loss: 9.3024 - mae: 9.3024\n",
            "Epoch 13/100\n",
            "13/13 [==============================] - 0s 3ms/step - loss: 8.9684 - mae: 8.9684\n",
            "Epoch 14/100\n",
            "13/13 [==============================] - 0s 2ms/step - loss: 8.7276 - mae: 8.7276\n",
            "Epoch 15/100\n",
            "13/13 [==============================] - 0s 2ms/step - loss: 8.4387 - mae: 8.4387\n",
            "Epoch 16/100\n",
            "13/13 [==============================] - 0s 2ms/step - loss: 8.2900 - mae: 8.2900\n",
            "Epoch 17/100\n",
            "13/13 [==============================] - 0s 2ms/step - loss: 8.1068 - mae: 8.1068\n",
            "Epoch 18/100\n",
            "13/13 [==============================] - 0s 2ms/step - loss: 7.9179 - mae: 7.9179\n",
            "Epoch 19/100\n",
            "13/13 [==============================] - 0s 2ms/step - loss: 7.6386 - mae: 7.6386\n",
            "Epoch 20/100\n",
            "13/13 [==============================] - 0s 2ms/step - loss: 7.5167 - mae: 7.5167\n",
            "Epoch 21/100\n",
            "13/13 [==============================] - 0s 2ms/step - loss: 7.3787 - mae: 7.3787\n",
            "Epoch 22/100\n",
            "13/13 [==============================] - 0s 2ms/step - loss: 7.2993 - mae: 7.2993\n",
            "Epoch 23/100\n",
            "13/13 [==============================] - 0s 2ms/step - loss: 7.1013 - mae: 7.1013\n",
            "Epoch 24/100\n",
            "13/13 [==============================] - 0s 2ms/step - loss: 7.0162 - mae: 7.0162\n",
            "Epoch 25/100\n",
            "13/13 [==============================] - 0s 2ms/step - loss: 6.9130 - mae: 6.9130\n",
            "Epoch 26/100\n",
            "13/13 [==============================] - 0s 2ms/step - loss: 6.8194 - mae: 6.8194\n",
            "Epoch 27/100\n",
            "13/13 [==============================] - 0s 2ms/step - loss: 6.7288 - mae: 6.7288\n",
            "Epoch 28/100\n",
            "13/13 [==============================] - 0s 2ms/step - loss: 6.6813 - mae: 6.6813\n",
            "Epoch 29/100\n",
            "13/13 [==============================] - 0s 2ms/step - loss: 6.6165 - mae: 6.6165\n",
            "Epoch 30/100\n",
            "13/13 [==============================] - 0s 2ms/step - loss: 6.5182 - mae: 6.5182\n",
            "Epoch 31/100\n",
            "13/13 [==============================] - 0s 2ms/step - loss: 6.4585 - mae: 6.4585\n",
            "Epoch 32/100\n",
            "13/13 [==============================] - 0s 2ms/step - loss: 6.4148 - mae: 6.4148\n",
            "Epoch 33/100\n",
            "13/13 [==============================] - 0s 2ms/step - loss: 6.3741 - mae: 6.3741\n",
            "Epoch 34/100\n",
            "13/13 [==============================] - 0s 2ms/step - loss: 6.3258 - mae: 6.3258\n",
            "Epoch 35/100\n",
            "13/13 [==============================] - 0s 2ms/step - loss: 6.2685 - mae: 6.2685\n",
            "Epoch 36/100\n",
            "13/13 [==============================] - 0s 2ms/step - loss: 6.2374 - mae: 6.2374\n",
            "Epoch 37/100\n",
            "13/13 [==============================] - 0s 3ms/step - loss: 6.1601 - mae: 6.1601\n",
            "Epoch 38/100\n",
            "13/13 [==============================] - 0s 3ms/step - loss: 6.1161 - mae: 6.1161\n",
            "Epoch 39/100\n",
            "13/13 [==============================] - 0s 2ms/step - loss: 6.0732 - mae: 6.0732\n",
            "Epoch 40/100\n",
            "13/13 [==============================] - 0s 2ms/step - loss: 6.0311 - mae: 6.0311\n",
            "Epoch 41/100\n",
            "13/13 [==============================] - 0s 2ms/step - loss: 6.0211 - mae: 6.0211\n",
            "Epoch 42/100\n",
            "13/13 [==============================] - 0s 2ms/step - loss: 5.9485 - mae: 5.9485\n",
            "Epoch 43/100\n",
            "13/13 [==============================] - 0s 2ms/step - loss: 5.9200 - mae: 5.9200\n",
            "Epoch 44/100\n",
            "13/13 [==============================] - 0s 2ms/step - loss: 5.8953 - mae: 5.8953\n",
            "Epoch 45/100\n",
            "13/13 [==============================] - 0s 2ms/step - loss: 5.8374 - mae: 5.8374\n",
            "Epoch 46/100\n",
            "13/13 [==============================] - 0s 2ms/step - loss: 5.8126 - mae: 5.8126\n",
            "Epoch 47/100\n",
            "13/13 [==============================] - 0s 2ms/step - loss: 5.7785 - mae: 5.7785\n",
            "Epoch 48/100\n",
            "13/13 [==============================] - 0s 3ms/step - loss: 5.7637 - mae: 5.7637\n",
            "Epoch 49/100\n",
            "13/13 [==============================] - 0s 3ms/step - loss: 5.7599 - mae: 5.7599\n",
            "Epoch 50/100\n",
            "13/13 [==============================] - 0s 2ms/step - loss: 5.6955 - mae: 5.6955\n",
            "Epoch 51/100\n",
            "13/13 [==============================] - 0s 2ms/step - loss: 5.6816 - mae: 5.6816\n",
            "Epoch 52/100\n",
            "13/13 [==============================] - 0s 2ms/step - loss: 5.6762 - mae: 5.6762\n",
            "Epoch 53/100\n",
            "13/13 [==============================] - 0s 2ms/step - loss: 5.6618 - mae: 5.6618\n",
            "Epoch 54/100\n",
            "13/13 [==============================] - 0s 2ms/step - loss: 5.6283 - mae: 5.6283\n",
            "Epoch 55/100\n",
            "13/13 [==============================] - 0s 2ms/step - loss: 5.6074 - mae: 5.6074\n",
            "Epoch 56/100\n",
            "13/13 [==============================] - 0s 2ms/step - loss: 5.5828 - mae: 5.5828\n",
            "Epoch 57/100\n",
            "13/13 [==============================] - 0s 2ms/step - loss: 5.6029 - mae: 5.6029\n",
            "Epoch 58/100\n",
            "13/13 [==============================] - 0s 2ms/step - loss: 5.5891 - mae: 5.5891\n",
            "Epoch 59/100\n",
            "13/13 [==============================] - 0s 2ms/step - loss: 5.6097 - mae: 5.6097\n",
            "Epoch 60/100\n",
            "13/13 [==============================] - 0s 2ms/step - loss: 5.5368 - mae: 5.5368\n",
            "Epoch 61/100\n",
            "13/13 [==============================] - 0s 2ms/step - loss: 5.5262 - mae: 5.5262\n",
            "Epoch 62/100\n",
            "13/13 [==============================] - 0s 2ms/step - loss: 5.5141 - mae: 5.5141\n",
            "Epoch 63/100\n",
            "13/13 [==============================] - 0s 2ms/step - loss: 5.5133 - mae: 5.5133\n",
            "Epoch 64/100\n",
            "13/13 [==============================] - 0s 2ms/step - loss: 5.5473 - mae: 5.5473\n",
            "Epoch 65/100\n",
            "13/13 [==============================] - 0s 3ms/step - loss: 5.5106 - mae: 5.5106\n",
            "Epoch 66/100\n",
            "13/13 [==============================] - 0s 2ms/step - loss: 5.5188 - mae: 5.5188\n",
            "Epoch 67/100\n",
            "13/13 [==============================] - 0s 2ms/step - loss: 5.5472 - mae: 5.5472\n",
            "Epoch 68/100\n",
            "13/13 [==============================] - 0s 3ms/step - loss: 5.5211 - mae: 5.5211\n",
            "Epoch 69/100\n",
            "13/13 [==============================] - 0s 2ms/step - loss: 5.4783 - mae: 5.4783\n",
            "Epoch 70/100\n",
            "13/13 [==============================] - 0s 4ms/step - loss: 5.5048 - mae: 5.5048\n",
            "Epoch 71/100\n",
            "13/13 [==============================] - 0s 2ms/step - loss: 5.4552 - mae: 5.4552\n",
            "Epoch 72/100\n",
            "13/13 [==============================] - 0s 2ms/step - loss: 5.4386 - mae: 5.4386\n",
            "Epoch 73/100\n",
            "13/13 [==============================] - 0s 2ms/step - loss: 5.4320 - mae: 5.4320\n",
            "Epoch 74/100\n",
            "13/13 [==============================] - 0s 2ms/step - loss: 5.4351 - mae: 5.4351\n",
            "Epoch 75/100\n",
            "13/13 [==============================] - 0s 2ms/step - loss: 5.4239 - mae: 5.4239\n",
            "Epoch 76/100\n",
            "13/13 [==============================] - 0s 2ms/step - loss: 5.4129 - mae: 5.4129\n",
            "Epoch 77/100\n",
            "13/13 [==============================] - 0s 2ms/step - loss: 5.4300 - mae: 5.4300\n",
            "Epoch 78/100\n",
            "13/13 [==============================] - 0s 2ms/step - loss: 5.4231 - mae: 5.4231\n",
            "Epoch 79/100\n",
            "13/13 [==============================] - 0s 2ms/step - loss: 5.4260 - mae: 5.4260\n",
            "Epoch 80/100\n",
            "13/13 [==============================] - 0s 2ms/step - loss: 5.4288 - mae: 5.4288\n",
            "Epoch 81/100\n",
            "13/13 [==============================] - 0s 2ms/step - loss: 5.3876 - mae: 5.3876\n",
            "Epoch 82/100\n",
            "13/13 [==============================] - 0s 2ms/step - loss: 5.4069 - mae: 5.4069\n",
            "Epoch 83/100\n",
            "13/13 [==============================] - 0s 2ms/step - loss: 5.3790 - mae: 5.3790\n",
            "Epoch 84/100\n",
            "13/13 [==============================] - 0s 2ms/step - loss: 5.4188 - mae: 5.4188\n",
            "Epoch 85/100\n",
            "13/13 [==============================] - 0s 2ms/step - loss: 5.3550 - mae: 5.3550\n",
            "Epoch 86/100\n",
            "13/13 [==============================] - 0s 2ms/step - loss: 5.5159 - mae: 5.5159\n",
            "Epoch 87/100\n",
            "13/13 [==============================] - 0s 2ms/step - loss: 5.3918 - mae: 5.3918\n",
            "Epoch 88/100\n",
            "13/13 [==============================] - 0s 2ms/step - loss: 5.3891 - mae: 5.3891\n",
            "Epoch 89/100\n",
            "13/13 [==============================] - 0s 2ms/step - loss: 5.3669 - mae: 5.3669\n",
            "Epoch 90/100\n",
            "13/13 [==============================] - 0s 2ms/step - loss: 5.3526 - mae: 5.3526\n",
            "Epoch 91/100\n",
            "13/13 [==============================] - 0s 2ms/step - loss: 5.3476 - mae: 5.3476\n",
            "Epoch 92/100\n",
            "13/13 [==============================] - 0s 2ms/step - loss: 5.3553 - mae: 5.3553\n",
            "Epoch 93/100\n",
            "13/13 [==============================] - 0s 2ms/step - loss: 5.3510 - mae: 5.3510\n",
            "Epoch 94/100\n",
            "13/13 [==============================] - 0s 2ms/step - loss: 5.3769 - mae: 5.3769\n",
            "Epoch 95/100\n",
            "13/13 [==============================] - 0s 2ms/step - loss: 5.3797 - mae: 5.3797\n",
            "Epoch 96/100\n",
            "13/13 [==============================] - 0s 2ms/step - loss: 5.3532 - mae: 5.3532\n",
            "Epoch 97/100\n",
            "13/13 [==============================] - 0s 3ms/step - loss: 5.3270 - mae: 5.3270\n",
            "Epoch 98/100\n",
            "13/13 [==============================] - 0s 2ms/step - loss: 5.3167 - mae: 5.3167\n",
            "Epoch 99/100\n",
            "13/13 [==============================] - 0s 2ms/step - loss: 5.3242 - mae: 5.3242\n",
            "Epoch 100/100\n",
            "13/13 [==============================] - 0s 2ms/step - loss: 5.4148 - mae: 5.4148\n"
          ]
        },
        {
          "output_type": "execute_result",
          "data": {
            "text/plain": [
              "<matplotlib.axes._subplots.AxesSubplot at 0x7f2a2bd61b10>"
            ]
          },
          "metadata": {},
          "execution_count": 14
        },
        {
          "output_type": "display_data",
          "data": {
            "text/plain": [
              "<Figure size 432x288 with 1 Axes>"
            ],
            "image/png": "[encoded data removed]"
          },
          "metadata": {
            "needs_background": "light"
          }
        }
      ]
    },
    {
      "cell_type": "markdown",
      "source": [
        "##Compare used configs\n",
        "Config 1:\n",
        "```\n",
        "model = tf.keras.Sequential()\n",
        "model.add(\n",
        "    tf.keras.layers.Dense(1),\n",
        "    )\n",
        "model.compile(optimizer = 'SGD', loss = 'mae', metrics = 'mae')\n",
        "history = model.fit(X_train, y_train, epochs=1, batch_size=100)\n",
        "```\n",
        "Config 2:\n",
        "```\n",
        "model_2 = tf.keras.Sequential()\n",
        "model_2.add(\n",
        "    tf.keras.layers.Dense(1)\n",
        ")\n",
        "model_2.compile(optimizer='SGD', loss='mae', metrics='mae')\n",
        "history=model_2.fit(X_train, y_train, epochs=100)\n",
        "model_2.evaluate(X_test, y_test)\n",
        "pd.DataFrame(history.history).plot()\n",
        "```\n",
        "Config 3:\n",
        "```\n",
        "model_3 = tf.keras.Sequential()\n",
        "model_3.add(\n",
        "    tf.keras.layers.Dense(1, activation='relu')\n",
        ")\n",
        "model_3.compile(optimizer='SGD', loss='mae', metrics='mae')\n",
        "history=model_3.fit(X_train, y_train, epochs=100)\n",
        "pd.DataFrame(history.history).plot()\n",
        "```\n",
        "Config 4:\n",
        "```\n",
        "model_4 = tf.keras.Sequential(\n",
        "    [\n",
        "      tf.keras.layers.Dense(10, activation='relu'),\n",
        "      tf.keras.layers.Dense(10, activation='relu'),\n",
        "      tf.keras.layers.Dense(1)\n",
        "    ]\n",
        ")\n",
        "\n",
        "model_4.compile(optimizer='Adam', loss='mae', metrics='mae')\n",
        "history=model_4.fit(X_train, y_train, epochs=100)\n",
        "pd.DataFrame(history.history).plot()\n",
        "```\n",
        "\n",
        "config 5:\n",
        "```\n",
        "model_5 = tf.keras.Sequential()\n",
        "model_5.add(\n",
        "    tf.keras.layers.Dense(1, activation='relu')\n",
        ")\n",
        "model_5.compile(optimizer='Adam', loss='mae', metrics='mae')\n",
        "history=model_5.fit(X_train, y_train, epochs=100)\n",
        "pd.DataFrame(history.history).plot()\n",
        "```"
      ],
      "metadata": {
        "id": "fMqv0THkU-V7"
      }
    },
    {
      "cell_type": "markdown",
      "source": [
        "##Summary\n",
        "1. Using activation function changes a problem from linear to non-linear\n",
        "2. Optimizer has a significant impact on model performance(compare model 2 and 5 results)\n"
      ],
      "metadata": {
        "id": "CU6o-bckXH5U"
      }
    }
  ]
}
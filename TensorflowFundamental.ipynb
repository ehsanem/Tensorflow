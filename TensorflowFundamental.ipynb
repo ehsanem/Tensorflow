{
  "nbformat": 4,
  "nbformat_minor": 0,
  "metadata": {
    "colab": {
      "name": "Tensorflow.ipynb",
      "provenance": [],
      "toc_visible": true,
      "authorship_tag": "ABX9TyMqoGkZnk64tFtFBClpxLTH",
      "include_colab_link": true
    },
    "kernelspec": {
      "name": "python3",
      "display_name": "Python 3"
    },
    "language_info": {
      "name": "python"
    }
  },
  "cells": [
    {
      "cell_type": "markdown",
      "metadata": {
        "id": "view-in-github",
        "colab_type": "text"
      },
      "source": [
        "<a href=\"https://colab.research.google.com/github/ehsanem/Tensorflow/blob/main/TensorflowFundamental.ipynb\" target=\"_parent\"><img src=\"https://colab.research.google.com/assets/colab-badge.svg\" alt=\"Open In Colab\"/></a>"
      ]
    },
    {
      "cell_type": "code",
      "source": [
        "import tensorflow as tf"
      ],
      "metadata": {
        "id": "RkxlG5zwbQPl"
      },
      "execution_count": null,
      "outputs": []
    },
    {
      "cell_type": "markdown",
      "source": [
        "# Types of tensors\n",
        "**scaler:** It is just a number or numbers\n",
        "\n",
        "**vector:** A series of numbers with direction\n",
        "\n",
        "**matrix:** A two-dimensional array of numbers\n",
        "\n",
        "**tensor:** An n-dimensional array of numbers"
      ],
      "metadata": {
        "id": "8YfSTWx3eUwg"
      }
    },
    {
      "cell_type": "markdown",
      "source": [
        ""
      ],
      "metadata": {
        "id": "TbjeTKrXe4LG"
      }
    },
    {
      "cell_type": "code",
      "execution_count": null,
      "metadata": {
        "id": "DHKjJKmwbO_8"
      },
      "outputs": [],
      "source": [
        "initializer = tf.keras.initializers.Constant(3.)\n",
        "values = initializer(shape=(2, 2))"
      ]
    },
    {
      "cell_type": "code",
      "source": [
        "values"
      ],
      "metadata": {
        "colab": {
          "base_uri": "https://localhost:8080/"
        },
        "id": "f9NVOao3bfQ6",
        "outputId": "cb0a8a94-014d-4ece-8a89-78d37da19c47"
      },
      "execution_count": null,
      "outputs": [
        {
          "output_type": "execute_result",
          "data": {
            "text/plain": [
              "<tf.Tensor: shape=(2, 2), dtype=float32, numpy=\n",
              "array([[3., 3.],\n",
              "       [3., 3.]], dtype=float32)>"
            ]
          },
          "metadata": {},
          "execution_count": 4
        }
      ]
    },
    {
      "cell_type": "code",
      "source": [
        ""
      ],
      "metadata": {
        "id": "jb7sI6K-bjez"
      },
      "execution_count": null,
      "outputs": []
    }
  ]
}
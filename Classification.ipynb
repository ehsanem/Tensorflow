{
  "nbformat": 4,
  "nbformat_minor": 0,
  "metadata": {
    "colab": {
      "name": "Classification.ipynb",
      "provenance": [],
      "authorship_tag": "ABX9TyOm9Tk5Hk4Ybn0xQ0ZLwzSG",
      "include_colab_link": true
    },
    "kernelspec": {
      "name": "python3",
      "display_name": "Python 3"
    },
    "language_info": {
      "name": "python"
    }
  },
  "cells": [
    {
      "cell_type": "markdown",
      "metadata": {
        "id": "view-in-github",
        "colab_type": "text"
      },
      "source": [
        "<a href=\"https://colab.research.google.com/github/ehsanem/Tensorflow/blob/main/Classification.ipynb\" target=\"_parent\"><img src=\"https://colab.research.google.com/assets/colab-badge.svg\" alt=\"Open In Colab\"/></a>"
      ]
    },
    {
      "cell_type": "markdown",
      "source": [
        "#Type of classification problems\n",
        "There are 3 types:\n",
        "\n",
        "1. **Binary**: Two classes\n",
        "2. **Multiclass**: More than 2 classes\n",
        "3. **Multilable**: A single class has multiple lables\n",
        "\n",
        "\n"
      ],
      "metadata": {
        "id": "Y2ghXQTuBM3B"
      }
    }
  ]
}